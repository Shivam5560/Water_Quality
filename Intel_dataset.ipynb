{
 "cells": [
  {
   "cell_type": "code",
   "execution_count": 3,
   "id": "9dc8c3ba",
   "metadata": {},
   "outputs": [
    {
     "name": "stderr",
     "output_type": "stream",
     "text": [
      "Intel(R) Extension for Scikit-learn* enabled (https://github.com/intel/scikit-learn-intelex)\n"
     ]
    }
   ],
   "source": [
    "import pandas as pd\n",
    "import numpy as np\n",
    "import matplotlib.pyplot as plt\n",
    "from sklearnex import patch_sklearn\n",
    "patch_sklearn()"
   ]
  },
  {
   "cell_type": "code",
   "execution_count": 4,
   "id": "91c3ceae",
   "metadata": {},
   "outputs": [
    {
     "name": "stdout",
     "output_type": "stream",
     "text": [
      "CPU times: user 14 s, sys: 2.68 s, total: 16.7 s\n",
      "Wall time: 17.3 s\n"
     ]
    }
   ],
   "source": [
    "%%time\n",
    "df=pd.read_csv('/Users/shivamsourav/Desktop/dataset.csv')"
   ]
  },
  {
   "cell_type": "code",
   "execution_count": 5,
   "id": "6b4d3df5",
   "metadata": {},
   "outputs": [
    {
     "data": {
      "text/plain": [
       "(5956842, 24)"
      ]
     },
     "execution_count": 5,
     "metadata": {},
     "output_type": "execute_result"
    }
   ],
   "source": [
    "df.shape"
   ]
  },
  {
   "cell_type": "code",
   "execution_count": 6,
   "id": "b36d114f",
   "metadata": {},
   "outputs": [
    {
     "data": {
      "text/plain": [
       "Index(['Index', 'pH', 'Iron', 'Nitrate', 'Chloride', 'Lead', 'Zinc', 'Color',\n",
       "       'Turbidity', 'Fluoride', 'Copper', 'Odor', 'Sulfate', 'Conductivity',\n",
       "       'Chlorine', 'Manganese', 'Total Dissolved Solids', 'Source',\n",
       "       'Water Temperature', 'Air Temperature', 'Month', 'Day', 'Time of Day',\n",
       "       'Target'],\n",
       "      dtype='object')"
      ]
     },
     "execution_count": 6,
     "metadata": {},
     "output_type": "execute_result"
    }
   ],
   "source": [
    "df.columns"
   ]
  },
  {
   "cell_type": "code",
   "execution_count": 7,
   "id": "086b6652",
   "metadata": {},
   "outputs": [
    {
     "data": {
      "text/plain": [
       "array([0, 1])"
      ]
     },
     "execution_count": 7,
     "metadata": {},
     "output_type": "execute_result"
    }
   ],
   "source": [
    "df['Target'].unique()"
   ]
  },
  {
   "cell_type": "code",
   "execution_count": 8,
   "id": "1d4940fa",
   "metadata": {},
   "outputs": [
    {
     "data": {
      "text/plain": [
       "Index                          0\n",
       "pH                        116054\n",
       "Iron                       39753\n",
       "Nitrate                   105725\n",
       "Chloride                  175531\n",
       "Lead                       26909\n",
       "Zinc                      156126\n",
       "Color                       5739\n",
       "Turbidity                  49815\n",
       "Fluoride                  189156\n",
       "Copper                    199402\n",
       "Odor                      178891\n",
       "Sulfate                   197418\n",
       "Conductivity              163861\n",
       "Chlorine                   57825\n",
       "Manganese                 109583\n",
       "Total Dissolved Solids      1670\n",
       "Source                     88262\n",
       "Water Temperature         168233\n",
       "Air Temperature            29728\n",
       "Month                      95668\n",
       "Day                        99603\n",
       "Time of Day               114519\n",
       "Target                         0\n",
       "dtype: int64"
      ]
     },
     "execution_count": 8,
     "metadata": {},
     "output_type": "execute_result"
    }
   ],
   "source": [
    "df.isnull().sum()"
   ]
  },
  {
   "cell_type": "code",
   "execution_count": 9,
   "id": "70388f15",
   "metadata": {},
   "outputs": [
    {
     "data": {
      "text/plain": [
       "array(['Colorless', 'Faint Yellow', 'Light Yellow', 'Near Colorless',\n",
       "       'Yellow', nan], dtype=object)"
      ]
     },
     "execution_count": 9,
     "metadata": {},
     "output_type": "execute_result"
    }
   ],
   "source": [
    "df['Color'].unique()"
   ]
  },
  {
   "cell_type": "code",
   "execution_count": 10,
   "id": "34e66df2",
   "metadata": {},
   "outputs": [
    {
     "data": {
      "text/plain": [
       "Colorless         1787911\n",
       "Near Colorless    1786234\n",
       "Faint Yellow      1079772\n",
       "Light Yellow       758138\n",
       "Yellow             539048\n",
       "Name: Color, dtype: int64"
      ]
     },
     "execution_count": 10,
     "metadata": {},
     "output_type": "execute_result"
    }
   ],
   "source": [
    "df['Color'].value_counts()"
   ]
  },
  {
   "cell_type": "code",
   "execution_count": 11,
   "id": "c851135e",
   "metadata": {},
   "outputs": [
    {
     "data": {
      "text/plain": [
       "Stream       734502\n",
       "Ground       734389\n",
       "Well         734315\n",
       "Aquifer      733778\n",
       "Reservoir    733298\n",
       "River        732980\n",
       "Spring       732700\n",
       "Lake         732618\n",
       "Name: Source, dtype: int64"
      ]
     },
     "execution_count": 11,
     "metadata": {},
     "output_type": "execute_result"
    }
   ],
   "source": [
    "df['Source'].value_counts()"
   ]
  },
  {
   "cell_type": "code",
   "execution_count": 12,
   "id": "8da3e098",
   "metadata": {},
   "outputs": [],
   "source": [
    "df['Source']=df['Source'].fillna('Other',axis=0)"
   ]
  },
  {
   "cell_type": "code",
   "execution_count": 13,
   "id": "3605e5c5",
   "metadata": {},
   "outputs": [
    {
     "data": {
      "text/html": [
       "<div>\n",
       "<style scoped>\n",
       "    .dataframe tbody tr th:only-of-type {\n",
       "        vertical-align: middle;\n",
       "    }\n",
       "\n",
       "    .dataframe tbody tr th {\n",
       "        vertical-align: top;\n",
       "    }\n",
       "\n",
       "    .dataframe thead th {\n",
       "        text-align: right;\n",
       "    }\n",
       "</style>\n",
       "<table border=\"1\" class=\"dataframe\">\n",
       "  <thead>\n",
       "    <tr style=\"text-align: right;\">\n",
       "      <th></th>\n",
       "      <th>Index</th>\n",
       "      <th>pH</th>\n",
       "      <th>Iron</th>\n",
       "      <th>Nitrate</th>\n",
       "      <th>Chloride</th>\n",
       "      <th>Lead</th>\n",
       "      <th>Zinc</th>\n",
       "      <th>Color</th>\n",
       "      <th>Turbidity</th>\n",
       "      <th>Fluoride</th>\n",
       "      <th>...</th>\n",
       "      <th>Chlorine</th>\n",
       "      <th>Manganese</th>\n",
       "      <th>Total Dissolved Solids</th>\n",
       "      <th>Source</th>\n",
       "      <th>Water Temperature</th>\n",
       "      <th>Air Temperature</th>\n",
       "      <th>Month</th>\n",
       "      <th>Day</th>\n",
       "      <th>Time of Day</th>\n",
       "      <th>Target</th>\n",
       "    </tr>\n",
       "  </thead>\n",
       "  <tbody>\n",
       "    <tr>\n",
       "      <th>0</th>\n",
       "      <td>0</td>\n",
       "      <td>8.332988</td>\n",
       "      <td>0.000083</td>\n",
       "      <td>8.605777</td>\n",
       "      <td>122.799772</td>\n",
       "      <td>3.713298e-52</td>\n",
       "      <td>3.434827</td>\n",
       "      <td>Colorless</td>\n",
       "      <td>0.022683</td>\n",
       "      <td>0.607283</td>\n",
       "      <td>...</td>\n",
       "      <td>3.708178</td>\n",
       "      <td>2.269945e-15</td>\n",
       "      <td>332.118789</td>\n",
       "      <td>Other</td>\n",
       "      <td>NaN</td>\n",
       "      <td>43.493324</td>\n",
       "      <td>January</td>\n",
       "      <td>29.0</td>\n",
       "      <td>4.0</td>\n",
       "      <td>0</td>\n",
       "    </tr>\n",
       "  </tbody>\n",
       "</table>\n",
       "<p>1 rows × 24 columns</p>\n",
       "</div>"
      ],
      "text/plain": [
       "   Index        pH      Iron   Nitrate    Chloride          Lead      Zinc  \\\n",
       "0      0  8.332988  0.000083  8.605777  122.799772  3.713298e-52  3.434827   \n",
       "\n",
       "       Color  Turbidity  Fluoride  ...  Chlorine     Manganese  \\\n",
       "0  Colorless   0.022683  0.607283  ...  3.708178  2.269945e-15   \n",
       "\n",
       "   Total Dissolved Solids  Source  Water Temperature  Air Temperature  \\\n",
       "0              332.118789   Other                NaN        43.493324   \n",
       "\n",
       "     Month   Day  Time of Day  Target  \n",
       "0  January  29.0          4.0       0  \n",
       "\n",
       "[1 rows x 24 columns]"
      ]
     },
     "execution_count": 13,
     "metadata": {},
     "output_type": "execute_result"
    }
   ],
   "source": [
    "df.head(1)"
   ]
  },
  {
   "cell_type": "code",
   "execution_count": 14,
   "id": "af391a61",
   "metadata": {},
   "outputs": [
    {
     "data": {
      "text/plain": [
       "Colorless         1793650\n",
       "Near Colorless    1786234\n",
       "Faint Yellow      1079772\n",
       "Light Yellow       758138\n",
       "Yellow             539048\n",
       "Name: Color, dtype: int64"
      ]
     },
     "execution_count": 14,
     "metadata": {},
     "output_type": "execute_result"
    }
   ],
   "source": [
    "df['Color']=df['Color'].fillna('Colorless',axis=0)\n",
    "df['Color'].value_counts()"
   ]
  },
  {
   "cell_type": "code",
   "execution_count": 15,
   "id": "c0b5bc87",
   "metadata": {},
   "outputs": [
    {
     "data": {
      "image/png": "[encoded data removed]",
      "text/plain": [
       "<Figure size 1440x864 with 1 Axes>"
      ]
     },
     "metadata": {
      "needs_background": "light"
     },
     "output_type": "display_data"
    }
   ],
   "source": [
    "plt.figure(figsize=(20,12))\n",
    "plt.hist(df['Color'],color='orange')\n",
    "plt.xlabel('Color')\n",
    "plt.ylabel('Count')\n",
    "plt.show()"
   ]
  },
  {
   "cell_type": "code",
   "execution_count": 16,
   "id": "16d741db",
   "metadata": {},
   "outputs": [
    {
     "name": "stderr",
     "output_type": "stream",
     "text": [
      "/var/folders/0n/xc9648gx0gsbnhr2j2xllfr00000gn/T/ipykernel_42852/2979032150.py:3: FutureWarning: The default value of numeric_only in DataFrame.corr is deprecated. In a future version, it will default to False. Select only valid columns or specify the value of numeric_only to silence this warning.\n",
      "  sns.heatmap(round(df.corr(),3),annot=True,cmap='coolwarm')\n"
     ]
    },
    {
     "data": {
      "image/png": "[encoded data removed]",
      "text/plain": [
       "<Figure size 1800x864 with 2 Axes>"
      ]
     },
     "metadata": {
      "needs_background": "light"
     },
     "output_type": "display_data"
    }
   ],
   "source": [
    "import seaborn as sns\n",
    "plt.figure(figsize=(25,12))\n",
    "sns.heatmap(round(df.corr(),3),annot=True,cmap='coolwarm')\n",
    "plt.show()"
   ]
  },
  {
   "cell_type": "code",
   "execution_count": 17,
   "id": "7dbd5843",
   "metadata": {},
   "outputs": [
    {
     "data": {
      "text/plain": [
       "(5956842, 17)"
      ]
     },
     "execution_count": 17,
     "metadata": {},
     "output_type": "execute_result"
    }
   ],
   "source": [
    "df=df.drop(['Index','pH','Conductivity','Water Temperature','Air Temperature','Day','Time of Day'],axis=1)\n",
    "df.shape"
   ]
  },
  {
   "cell_type": "code",
   "execution_count": 18,
   "id": "92e6e909",
   "metadata": {},
   "outputs": [
    {
     "data": {
      "text/html": [
       "<div>\n",
       "<style scoped>\n",
       "    .dataframe tbody tr th:only-of-type {\n",
       "        vertical-align: middle;\n",
       "    }\n",
       "\n",
       "    .dataframe tbody tr th {\n",
       "        vertical-align: top;\n",
       "    }\n",
       "\n",
       "    .dataframe thead th {\n",
       "        text-align: right;\n",
       "    }\n",
       "</style>\n",
       "<table border=\"1\" class=\"dataframe\">\n",
       "  <thead>\n",
       "    <tr style=\"text-align: right;\">\n",
       "      <th></th>\n",
       "      <th>Iron</th>\n",
       "      <th>Nitrate</th>\n",
       "      <th>Chloride</th>\n",
       "      <th>Lead</th>\n",
       "      <th>Zinc</th>\n",
       "      <th>Color</th>\n",
       "      <th>Turbidity</th>\n",
       "      <th>Fluoride</th>\n",
       "      <th>Copper</th>\n",
       "      <th>Odor</th>\n",
       "      <th>Sulfate</th>\n",
       "      <th>Chlorine</th>\n",
       "      <th>Manganese</th>\n",
       "      <th>Total Dissolved Solids</th>\n",
       "      <th>Source</th>\n",
       "      <th>Month</th>\n",
       "      <th>Target</th>\n",
       "    </tr>\n",
       "  </thead>\n",
       "  <tbody>\n",
       "    <tr>\n",
       "      <th>0</th>\n",
       "      <td>0.000083</td>\n",
       "      <td>8.605777</td>\n",
       "      <td>122.799772</td>\n",
       "      <td>3.713298e-52</td>\n",
       "      <td>3.434827</td>\n",
       "      <td>Colorless</td>\n",
       "      <td>0.022683</td>\n",
       "      <td>0.607283</td>\n",
       "      <td>0.144599</td>\n",
       "      <td>1.626212</td>\n",
       "      <td>87.266538</td>\n",
       "      <td>3.708178</td>\n",
       "      <td>2.269945e-15</td>\n",
       "      <td>332.118789</td>\n",
       "      <td>Other</td>\n",
       "      <td>January</td>\n",
       "      <td>0</td>\n",
       "    </tr>\n",
       "  </tbody>\n",
       "</table>\n",
       "</div>"
      ],
      "text/plain": [
       "       Iron   Nitrate    Chloride          Lead      Zinc      Color  \\\n",
       "0  0.000083  8.605777  122.799772  3.713298e-52  3.434827  Colorless   \n",
       "\n",
       "   Turbidity  Fluoride    Copper      Odor    Sulfate  Chlorine     Manganese  \\\n",
       "0   0.022683  0.607283  0.144599  1.626212  87.266538  3.708178  2.269945e-15   \n",
       "\n",
       "   Total Dissolved Solids Source    Month  Target  \n",
       "0              332.118789  Other  January       0  "
      ]
     },
     "execution_count": 18,
     "metadata": {},
     "output_type": "execute_result"
    }
   ],
   "source": [
    "df.head(1)"
   ]
  },
  {
   "cell_type": "code",
   "execution_count": 19,
   "id": "bff5ed40",
   "metadata": {},
   "outputs": [
    {
     "data": {
      "image/png": "[encoded data removed]",
      "text/plain": [
       "<Figure size 1440x720 with 1 Axes>"
      ]
     },
     "metadata": {
      "needs_background": "light"
     },
     "output_type": "display_data"
    }
   ],
   "source": [
    "colors = 'green'\n",
    "plt.figure(figsize=(20,10))\n",
    "plt.hist(df['Odor'],rwidth=0.5,color=colors)\n",
    "plt.xlabel('Odor ')\n",
    "plt.ylabel('Count')\n",
    "plt.title('Odor Plot')\n",
    "plt.show()"
   ]
  },
  {
   "cell_type": "code",
   "execution_count": 20,
   "id": "56c54277",
   "metadata": {},
   "outputs": [
    {
     "name": "stdout",
     "output_type": "stream",
     "text": [
      "CPU times: user 2.34 s, sys: 38.6 ms, total: 2.38 s\n",
      "Wall time: 2.38 s\n"
     ]
    },
    {
     "name": "stderr",
     "output_type": "stream",
     "text": [
      "<timed eval>:1: FutureWarning: The default value of numeric_only in DataFrame.median is deprecated. In a future version, it will default to False. In addition, specifying 'numeric_only=None' is deprecated. Select only valid columns or specify the value of numeric_only to silence this warning.\n"
     ]
    },
    {
     "data": {
      "text/plain": [
       "Iron                        0.002\n",
       "Nitrate                     5.604\n",
       "Chloride                  176.018\n",
       "Lead                        0.000\n",
       "Zinc                        1.082\n",
       "Turbidity                   0.210\n",
       "Fluoride                    0.775\n",
       "Copper                      0.348\n",
       "Odor                        1.774\n",
       "Sulfate                   134.649\n",
       "Chlorine                    3.210\n",
       "Manganese                   0.001\n",
       "Total Dissolved Solids    265.888\n",
       "Target                      0.000\n",
       "dtype: float64"
      ]
     },
     "execution_count": 20,
     "metadata": {},
     "output_type": "execute_result"
    }
   ],
   "source": [
    "%%time\n",
    "df.median().round(3)"
   ]
  },
  {
   "cell_type": "code",
   "execution_count": 21,
   "id": "2f67e9f2",
   "metadata": {},
   "outputs": [
    {
     "data": {
      "text/plain": [
       "Iron                       39753\n",
       "Nitrate                   105725\n",
       "Chloride                  175531\n",
       "Lead                       26909\n",
       "Zinc                      156126\n",
       "Color                          0\n",
       "Turbidity                  49815\n",
       "Fluoride                  189156\n",
       "Copper                    199402\n",
       "Odor                      178891\n",
       "Sulfate                   197418\n",
       "Chlorine                   57825\n",
       "Manganese                 109583\n",
       "Total Dissolved Solids      1670\n",
       "Source                         0\n",
       "Month                      95668\n",
       "Target                         0\n",
       "dtype: int64"
      ]
     },
     "execution_count": 21,
     "metadata": {},
     "output_type": "execute_result"
    }
   ],
   "source": [
    "df.isnull().sum()"
   ]
  },
  {
   "cell_type": "code",
   "execution_count": 22,
   "id": "80c9f24f",
   "metadata": {},
   "outputs": [
    {
     "data": {
      "text/plain": [
       "Index(['Iron', 'Nitrate', 'Chloride', 'Lead', 'Zinc', 'Color', 'Turbidity',\n",
       "       'Fluoride', 'Copper', 'Odor', 'Sulfate', 'Chlorine', 'Manganese',\n",
       "       'Total Dissolved Solids', 'Source', 'Target'],\n",
       "      dtype='object')"
      ]
     },
     "execution_count": 22,
     "metadata": {},
     "output_type": "execute_result"
    }
   ],
   "source": [
    "df=df.drop(['Month'],axis=1)\n",
    "df.columns"
   ]
  },
  {
   "cell_type": "code",
   "execution_count": 23,
   "id": "5296d586",
   "metadata": {},
   "outputs": [
    {
     "data": {
      "text/plain": [
       "Stream       734502\n",
       "Ground       734389\n",
       "Well         734315\n",
       "Aquifer      733778\n",
       "Reservoir    733298\n",
       "River        732980\n",
       "Spring       732700\n",
       "Lake         732618\n",
       "Other         88262\n",
       "Name: Source, dtype: int64"
      ]
     },
     "execution_count": 23,
     "metadata": {},
     "output_type": "execute_result"
    }
   ],
   "source": [
    "df['Source'].value_counts()"
   ]
  },
  {
   "cell_type": "code",
   "execution_count": 24,
   "id": "79610f27",
   "metadata": {},
   "outputs": [
    {
     "data": {
      "text/html": [
       "<div>\n",
       "<style scoped>\n",
       "    .dataframe tbody tr th:only-of-type {\n",
       "        vertical-align: middle;\n",
       "    }\n",
       "\n",
       "    .dataframe tbody tr th {\n",
       "        vertical-align: top;\n",
       "    }\n",
       "\n",
       "    .dataframe thead th {\n",
       "        text-align: right;\n",
       "    }\n",
       "</style>\n",
       "<table border=\"1\" class=\"dataframe\">\n",
       "  <thead>\n",
       "    <tr style=\"text-align: right;\">\n",
       "      <th></th>\n",
       "      <th>Iron</th>\n",
       "      <th>Nitrate</th>\n",
       "      <th>Chloride</th>\n",
       "      <th>Lead</th>\n",
       "      <th>Zinc</th>\n",
       "      <th>Color</th>\n",
       "      <th>Turbidity</th>\n",
       "      <th>Fluoride</th>\n",
       "      <th>Copper</th>\n",
       "      <th>Odor</th>\n",
       "      <th>Sulfate</th>\n",
       "      <th>Chlorine</th>\n",
       "      <th>Manganese</th>\n",
       "      <th>Total Dissolved Solids</th>\n",
       "      <th>Source</th>\n",
       "      <th>Target</th>\n",
       "    </tr>\n",
       "  </thead>\n",
       "  <tbody>\n",
       "    <tr>\n",
       "      <th>0</th>\n",
       "      <td>0.000083</td>\n",
       "      <td>8.605777</td>\n",
       "      <td>122.799772</td>\n",
       "      <td>3.713298e-52</td>\n",
       "      <td>3.434827</td>\n",
       "      <td>Colorless</td>\n",
       "      <td>0.022683</td>\n",
       "      <td>0.607283</td>\n",
       "      <td>0.144599</td>\n",
       "      <td>1.626212</td>\n",
       "      <td>87.266538</td>\n",
       "      <td>3.708178</td>\n",
       "      <td>2.269945e-15</td>\n",
       "      <td>332.118789</td>\n",
       "      <td>Other</td>\n",
       "      <td>0</td>\n",
       "    </tr>\n",
       "  </tbody>\n",
       "</table>\n",
       "</div>"
      ],
      "text/plain": [
       "       Iron   Nitrate    Chloride          Lead      Zinc      Color  \\\n",
       "0  0.000083  8.605777  122.799772  3.713298e-52  3.434827  Colorless   \n",
       "\n",
       "   Turbidity  Fluoride    Copper      Odor    Sulfate  Chlorine     Manganese  \\\n",
       "0   0.022683  0.607283  0.144599  1.626212  87.266538  3.708178  2.269945e-15   \n",
       "\n",
       "   Total Dissolved Solids Source  Target  \n",
       "0              332.118789  Other       0  "
      ]
     },
     "execution_count": 24,
     "metadata": {},
     "output_type": "execute_result"
    }
   ],
   "source": [
    "df.head(1)"
   ]
  },
  {
   "cell_type": "code",
   "execution_count": 25,
   "id": "d9256bc9",
   "metadata": {},
   "outputs": [
    {
     "data": {
      "text/plain": [
       "Stream       734502\n",
       "Ground       734389\n",
       "Well         734315\n",
       "Aquifer      733778\n",
       "Reservoir    733298\n",
       "River        732980\n",
       "Spring       732700\n",
       "Lake         732618\n",
       "Other         88262\n",
       "Name: Source, dtype: int64"
      ]
     },
     "execution_count": 25,
     "metadata": {},
     "output_type": "execute_result"
    }
   ],
   "source": [
    "df['Source'].value_counts()"
   ]
  },
  {
   "cell_type": "code",
   "execution_count": 26,
   "id": "2f9a119d",
   "metadata": {},
   "outputs": [
    {
     "data": {
      "text/plain": [
       "(5956842, 15)"
      ]
     },
     "execution_count": 26,
     "metadata": {},
     "output_type": "execute_result"
    }
   ],
   "source": [
    "df=df.drop(['Source'],axis=1)\n",
    "df.shape"
   ]
  },
  {
   "cell_type": "code",
   "execution_count": 27,
   "id": "0a431323",
   "metadata": {},
   "outputs": [
    {
     "data": {
      "text/html": [
       "<div>\n",
       "<style scoped>\n",
       "    .dataframe tbody tr th:only-of-type {\n",
       "        vertical-align: middle;\n",
       "    }\n",
       "\n",
       "    .dataframe tbody tr th {\n",
       "        vertical-align: top;\n",
       "    }\n",
       "\n",
       "    .dataframe thead th {\n",
       "        text-align: right;\n",
       "    }\n",
       "</style>\n",
       "<table border=\"1\" class=\"dataframe\">\n",
       "  <thead>\n",
       "    <tr style=\"text-align: right;\">\n",
       "      <th></th>\n",
       "      <th>Colorless</th>\n",
       "      <th>Faint Yellow</th>\n",
       "      <th>Light Yellow</th>\n",
       "      <th>Near Colorless</th>\n",
       "      <th>Yellow</th>\n",
       "    </tr>\n",
       "  </thead>\n",
       "  <tbody>\n",
       "    <tr>\n",
       "      <th>0</th>\n",
       "      <td>1</td>\n",
       "      <td>0</td>\n",
       "      <td>0</td>\n",
       "      <td>0</td>\n",
       "      <td>0</td>\n",
       "    </tr>\n",
       "  </tbody>\n",
       "</table>\n",
       "</div>"
      ],
      "text/plain": [
       "   Colorless  Faint Yellow  Light Yellow  Near Colorless  Yellow\n",
       "0          1             0             0               0       0"
      ]
     },
     "execution_count": 27,
     "metadata": {},
     "output_type": "execute_result"
    }
   ],
   "source": [
    "static = pd.get_dummies(df['Color'])\n",
    "static.head(1)"
   ]
  },
  {
   "cell_type": "code",
   "execution_count": 28,
   "id": "a3906713",
   "metadata": {},
   "outputs": [
    {
     "data": {
      "text/html": [
       "<div>\n",
       "<style scoped>\n",
       "    .dataframe tbody tr th:only-of-type {\n",
       "        vertical-align: middle;\n",
       "    }\n",
       "\n",
       "    .dataframe tbody tr th {\n",
       "        vertical-align: top;\n",
       "    }\n",
       "\n",
       "    .dataframe thead th {\n",
       "        text-align: right;\n",
       "    }\n",
       "</style>\n",
       "<table border=\"1\" class=\"dataframe\">\n",
       "  <thead>\n",
       "    <tr style=\"text-align: right;\">\n",
       "      <th></th>\n",
       "      <th>Iron</th>\n",
       "      <th>Nitrate</th>\n",
       "      <th>Chloride</th>\n",
       "      <th>Lead</th>\n",
       "      <th>Zinc</th>\n",
       "      <th>Color</th>\n",
       "      <th>Turbidity</th>\n",
       "      <th>Fluoride</th>\n",
       "      <th>Copper</th>\n",
       "      <th>Odor</th>\n",
       "      <th>Sulfate</th>\n",
       "      <th>Chlorine</th>\n",
       "      <th>Manganese</th>\n",
       "      <th>Total Dissolved Solids</th>\n",
       "      <th>Target</th>\n",
       "      <th>Colorless</th>\n",
       "      <th>Faint Yellow</th>\n",
       "      <th>Light Yellow</th>\n",
       "      <th>Near Colorless</th>\n",
       "      <th>Yellow</th>\n",
       "    </tr>\n",
       "  </thead>\n",
       "  <tbody>\n",
       "    <tr>\n",
       "      <th>0</th>\n",
       "      <td>0.000083</td>\n",
       "      <td>8.605777</td>\n",
       "      <td>122.799772</td>\n",
       "      <td>3.713298e-52</td>\n",
       "      <td>3.434827</td>\n",
       "      <td>Colorless</td>\n",
       "      <td>0.022683</td>\n",
       "      <td>0.607283</td>\n",
       "      <td>0.144599</td>\n",
       "      <td>1.626212</td>\n",
       "      <td>87.266538</td>\n",
       "      <td>3.708178</td>\n",
       "      <td>2.269945e-15</td>\n",
       "      <td>332.118789</td>\n",
       "      <td>0</td>\n",
       "      <td>1</td>\n",
       "      <td>0</td>\n",
       "      <td>0</td>\n",
       "      <td>0</td>\n",
       "      <td>0</td>\n",
       "    </tr>\n",
       "    <tr>\n",
       "      <th>1</th>\n",
       "      <td>0.000081</td>\n",
       "      <td>3.734167</td>\n",
       "      <td>227.029851</td>\n",
       "      <td>7.849262e-94</td>\n",
       "      <td>1.245317</td>\n",
       "      <td>Faint Yellow</td>\n",
       "      <td>0.019007</td>\n",
       "      <td>0.622874</td>\n",
       "      <td>0.437835</td>\n",
       "      <td>1.686049</td>\n",
       "      <td>144.010981</td>\n",
       "      <td>3.292038</td>\n",
       "      <td>8.024076e-07</td>\n",
       "      <td>284.641984</td>\n",
       "      <td>0</td>\n",
       "      <td>0</td>\n",
       "      <td>1</td>\n",
       "      <td>0</td>\n",
       "      <td>0</td>\n",
       "      <td>0</td>\n",
       "    </tr>\n",
       "  </tbody>\n",
       "</table>\n",
       "</div>"
      ],
      "text/plain": [
       "       Iron   Nitrate    Chloride          Lead      Zinc         Color  \\\n",
       "0  0.000083  8.605777  122.799772  3.713298e-52  3.434827     Colorless   \n",
       "1  0.000081  3.734167  227.029851  7.849262e-94  1.245317  Faint Yellow   \n",
       "\n",
       "   Turbidity  Fluoride    Copper      Odor     Sulfate  Chlorine  \\\n",
       "0   0.022683  0.607283  0.144599  1.626212   87.266538  3.708178   \n",
       "1   0.019007  0.622874  0.437835  1.686049  144.010981  3.292038   \n",
       "\n",
       "      Manganese  Total Dissolved Solids  Target  Colorless  Faint Yellow  \\\n",
       "0  2.269945e-15              332.118789       0          1             0   \n",
       "1  8.024076e-07              284.641984       0          0             1   \n",
       "\n",
       "   Light Yellow  Near Colorless  Yellow  \n",
       "0             0               0       0  \n",
       "1             0               0       0  "
      ]
     },
     "execution_count": 28,
     "metadata": {},
     "output_type": "execute_result"
    }
   ],
   "source": [
    "df2=pd.concat([df,static],axis=1)\n",
    "df2.head(2)"
   ]
  },
  {
   "cell_type": "code",
   "execution_count": 29,
   "id": "9ee6642d",
   "metadata": {},
   "outputs": [
    {
     "data": {
      "text/plain": [
       "(5956842, 20)"
      ]
     },
     "execution_count": 29,
     "metadata": {},
     "output_type": "execute_result"
    }
   ],
   "source": [
    "df2.shape"
   ]
  },
  {
   "cell_type": "code",
   "execution_count": 30,
   "id": "86bbaeba",
   "metadata": {},
   "outputs": [
    {
     "name": "stderr",
     "output_type": "stream",
     "text": [
      "/var/folders/0n/xc9648gx0gsbnhr2j2xllfr00000gn/T/ipykernel_42852/3691463272.py:2: FutureWarning: The default value of numeric_only in DataFrame.corr is deprecated. In a future version, it will default to False. Select only valid columns or specify the value of numeric_only to silence this warning.\n",
      "  sns.heatmap(round(df2.corr(),3),annot=True,cmap='coolwarm')\n"
     ]
    },
    {
     "data": {
      "image/png": "[encoded data removed]",
      "text/plain": [
       "<Figure size 1800x864 with 2 Axes>"
      ]
     },
     "metadata": {
      "needs_background": "light"
     },
     "output_type": "display_data"
    }
   ],
   "source": [
    "plt.figure(figsize=(25,12))\n",
    "sns.heatmap(round(df2.corr(),3),annot=True,cmap='coolwarm')\n",
    "plt.show()"
   ]
  },
  {
   "cell_type": "code",
   "execution_count": 31,
   "id": "38a45a20",
   "metadata": {},
   "outputs": [
    {
     "data": {
      "text/plain": [
       "Iron                       39753\n",
       "Nitrate                   105725\n",
       "Chloride                  175531\n",
       "Lead                       26909\n",
       "Zinc                      156126\n",
       "Color                          0\n",
       "Turbidity                  49815\n",
       "Fluoride                  189156\n",
       "Copper                    199402\n",
       "Odor                      178891\n",
       "Sulfate                   197418\n",
       "Chlorine                   57825\n",
       "Manganese                 109583\n",
       "Total Dissolved Solids      1670\n",
       "Target                         0\n",
       "Colorless                      0\n",
       "Faint Yellow                   0\n",
       "Light Yellow                   0\n",
       "Near Colorless                 0\n",
       "Yellow                         0\n",
       "dtype: int64"
      ]
     },
     "execution_count": 31,
     "metadata": {},
     "output_type": "execute_result"
    }
   ],
   "source": [
    "df2.isnull().sum()"
   ]
  },
  {
   "cell_type": "code",
   "execution_count": 32,
   "id": "ae90e926",
   "metadata": {},
   "outputs": [],
   "source": [
    "df2=df2.drop(['Color'],axis=1)"
   ]
  },
  {
   "cell_type": "code",
   "execution_count": 33,
   "id": "42cd009b",
   "metadata": {},
   "outputs": [
    {
     "data": {
      "text/html": [
       "<div>\n",
       "<style scoped>\n",
       "    .dataframe tbody tr th:only-of-type {\n",
       "        vertical-align: middle;\n",
       "    }\n",
       "\n",
       "    .dataframe tbody tr th {\n",
       "        vertical-align: top;\n",
       "    }\n",
       "\n",
       "    .dataframe thead th {\n",
       "        text-align: right;\n",
       "    }\n",
       "</style>\n",
       "<table border=\"1\" class=\"dataframe\">\n",
       "  <thead>\n",
       "    <tr style=\"text-align: right;\">\n",
       "      <th></th>\n",
       "      <th>Iron</th>\n",
       "      <th>Nitrate</th>\n",
       "      <th>Chloride</th>\n",
       "      <th>Lead</th>\n",
       "      <th>Zinc</th>\n",
       "      <th>Turbidity</th>\n",
       "      <th>Fluoride</th>\n",
       "      <th>Copper</th>\n",
       "      <th>Odor</th>\n",
       "      <th>Sulfate</th>\n",
       "      <th>Chlorine</th>\n",
       "      <th>Manganese</th>\n",
       "      <th>Total Dissolved Solids</th>\n",
       "      <th>Target</th>\n",
       "      <th>Colorless</th>\n",
       "      <th>Faint Yellow</th>\n",
       "      <th>Light Yellow</th>\n",
       "      <th>Near Colorless</th>\n",
       "      <th>Yellow</th>\n",
       "    </tr>\n",
       "  </thead>\n",
       "  <tbody>\n",
       "    <tr>\n",
       "      <th>0</th>\n",
       "      <td>0.000083</td>\n",
       "      <td>8.605777</td>\n",
       "      <td>122.799772</td>\n",
       "      <td>3.713298e-52</td>\n",
       "      <td>3.434827</td>\n",
       "      <td>0.022683</td>\n",
       "      <td>0.607283</td>\n",
       "      <td>0.144599</td>\n",
       "      <td>1.626212</td>\n",
       "      <td>87.266538</td>\n",
       "      <td>3.708178</td>\n",
       "      <td>2.269945e-15</td>\n",
       "      <td>332.118789</td>\n",
       "      <td>0</td>\n",
       "      <td>1</td>\n",
       "      <td>0</td>\n",
       "      <td>0</td>\n",
       "      <td>0</td>\n",
       "      <td>0</td>\n",
       "    </tr>\n",
       "  </tbody>\n",
       "</table>\n",
       "</div>"
      ],
      "text/plain": [
       "       Iron   Nitrate    Chloride          Lead      Zinc  Turbidity  \\\n",
       "0  0.000083  8.605777  122.799772  3.713298e-52  3.434827   0.022683   \n",
       "\n",
       "   Fluoride    Copper      Odor    Sulfate  Chlorine     Manganese  \\\n",
       "0  0.607283  0.144599  1.626212  87.266538  3.708178  2.269945e-15   \n",
       "\n",
       "   Total Dissolved Solids  Target  Colorless  Faint Yellow  Light Yellow  \\\n",
       "0              332.118789       0          1             0             0   \n",
       "\n",
       "   Near Colorless  Yellow  \n",
       "0               0       0  "
      ]
     },
     "execution_count": 33,
     "metadata": {},
     "output_type": "execute_result"
    }
   ],
   "source": [
    "df2.head(1)"
   ]
  },
  {
   "cell_type": "markdown",
   "id": "772a4fcf",
   "metadata": {},
   "source": [
    "# DATAFRAM 2 WITH REMOVING NULL VALUES"
   ]
  },
  {
   "cell_type": "code",
   "execution_count": 34,
   "id": "7e419de7",
   "metadata": {},
   "outputs": [
    {
     "data": {
      "text/plain": [
       "(5956842, 19)"
      ]
     },
     "execution_count": 34,
     "metadata": {},
     "output_type": "execute_result"
    }
   ],
   "source": [
    "df3=df2.copy()\n",
    "df3.shape"
   ]
  },
  {
   "cell_type": "code",
   "execution_count": 35,
   "id": "44f4991b",
   "metadata": {},
   "outputs": [],
   "source": [
    "df3.dropna(axis=0,inplace=True)"
   ]
  },
  {
   "cell_type": "code",
   "execution_count": 36,
   "id": "bc369459",
   "metadata": {},
   "outputs": [
    {
     "data": {
      "text/plain": [
       "(4624831, 19)"
      ]
     },
     "execution_count": 36,
     "metadata": {},
     "output_type": "execute_result"
    }
   ],
   "source": [
    "df3.shape"
   ]
  },
  {
   "cell_type": "code",
   "execution_count": 37,
   "id": "8387cbbf",
   "metadata": {},
   "outputs": [],
   "source": [
    "from sklearn.tree import DecisionTreeClassifier\n",
    "from sklearn.ensemble import RandomForestClassifier, BaggingClassifier"
   ]
  },
  {
   "cell_type": "code",
   "execution_count": 38,
   "id": "bbfe1795",
   "metadata": {
    "scrolled": true
   },
   "outputs": [
    {
     "data": {
      "text/plain": [
       "(4624831, 18)"
      ]
     },
     "execution_count": 38,
     "metadata": {},
     "output_type": "execute_result"
    }
   ],
   "source": [
    "y=df3['Target']\n",
    "x=df3.drop(['Target'],axis=1)\n",
    "x.shape"
   ]
  },
  {
   "cell_type": "code",
   "execution_count": 39,
   "id": "fa1b189f",
   "metadata": {},
   "outputs": [
    {
     "data": {
      "text/plain": [
       "(4624831,)"
      ]
     },
     "execution_count": 39,
     "metadata": {},
     "output_type": "execute_result"
    }
   ],
   "source": [
    "y.shape"
   ]
  },
  {
   "cell_type": "code",
   "execution_count": 40,
   "id": "4b6e61a5",
   "metadata": {},
   "outputs": [
    {
     "data": {
      "text/html": [
       "<div>\n",
       "<style scoped>\n",
       "    .dataframe tbody tr th:only-of-type {\n",
       "        vertical-align: middle;\n",
       "    }\n",
       "\n",
       "    .dataframe tbody tr th {\n",
       "        vertical-align: top;\n",
       "    }\n",
       "\n",
       "    .dataframe thead th {\n",
       "        text-align: right;\n",
       "    }\n",
       "</style>\n",
       "<table border=\"1\" class=\"dataframe\">\n",
       "  <thead>\n",
       "    <tr style=\"text-align: right;\">\n",
       "      <th></th>\n",
       "      <th>Iron</th>\n",
       "      <th>Nitrate</th>\n",
       "      <th>Chloride</th>\n",
       "      <th>Lead</th>\n",
       "      <th>Zinc</th>\n",
       "      <th>Turbidity</th>\n",
       "      <th>Fluoride</th>\n",
       "      <th>Copper</th>\n",
       "      <th>Odor</th>\n",
       "      <th>Sulfate</th>\n",
       "      <th>Chlorine</th>\n",
       "      <th>Manganese</th>\n",
       "      <th>Total Dissolved Solids</th>\n",
       "      <th>Target</th>\n",
       "      <th>Colorless</th>\n",
       "      <th>Faint Yellow</th>\n",
       "      <th>Light Yellow</th>\n",
       "      <th>Near Colorless</th>\n",
       "      <th>Yellow</th>\n",
       "    </tr>\n",
       "  </thead>\n",
       "  <tbody>\n",
       "    <tr>\n",
       "      <th>0</th>\n",
       "      <td>0.000083</td>\n",
       "      <td>8.605777</td>\n",
       "      <td>122.799772</td>\n",
       "      <td>3.713298e-52</td>\n",
       "      <td>3.434827</td>\n",
       "      <td>0.022683</td>\n",
       "      <td>0.607283</td>\n",
       "      <td>0.144599</td>\n",
       "      <td>1.626212</td>\n",
       "      <td>87.266538</td>\n",
       "      <td>3.708178</td>\n",
       "      <td>2.269945e-15</td>\n",
       "      <td>332.118789</td>\n",
       "      <td>0</td>\n",
       "      <td>1</td>\n",
       "      <td>0</td>\n",
       "      <td>0</td>\n",
       "      <td>0</td>\n",
       "      <td>0</td>\n",
       "    </tr>\n",
       "    <tr>\n",
       "      <th>1</th>\n",
       "      <td>0.000081</td>\n",
       "      <td>3.734167</td>\n",
       "      <td>227.029851</td>\n",
       "      <td>7.849262e-94</td>\n",
       "      <td>1.245317</td>\n",
       "      <td>0.019007</td>\n",
       "      <td>0.622874</td>\n",
       "      <td>0.437835</td>\n",
       "      <td>1.686049</td>\n",
       "      <td>144.010981</td>\n",
       "      <td>3.292038</td>\n",
       "      <td>8.024076e-07</td>\n",
       "      <td>284.641984</td>\n",
       "      <td>0</td>\n",
       "      <td>0</td>\n",
       "      <td>1</td>\n",
       "      <td>0</td>\n",
       "      <td>0</td>\n",
       "      <td>0</td>\n",
       "    </tr>\n",
       "    <tr>\n",
       "      <th>2</th>\n",
       "      <td>0.020106</td>\n",
       "      <td>3.816994</td>\n",
       "      <td>230.995630</td>\n",
       "      <td>5.286616e-76</td>\n",
       "      <td>0.528280</td>\n",
       "      <td>0.319956</td>\n",
       "      <td>0.423423</td>\n",
       "      <td>0.431588</td>\n",
       "      <td>3.414619</td>\n",
       "      <td>275.702107</td>\n",
       "      <td>3.560224</td>\n",
       "      <td>7.007989e-02</td>\n",
       "      <td>570.054094</td>\n",
       "      <td>0</td>\n",
       "      <td>0</td>\n",
       "      <td>0</td>\n",
       "      <td>1</td>\n",
       "      <td>0</td>\n",
       "      <td>0</td>\n",
       "    </tr>\n",
       "    <tr>\n",
       "      <th>4</th>\n",
       "      <td>0.002167</td>\n",
       "      <td>9.925788</td>\n",
       "      <td>186.540872</td>\n",
       "      <td>4.171069e-132</td>\n",
       "      <td>3.807511</td>\n",
       "      <td>0.004867</td>\n",
       "      <td>0.222912</td>\n",
       "      <td>0.616574</td>\n",
       "      <td>0.795310</td>\n",
       "      <td>175.275175</td>\n",
       "      <td>3.177849</td>\n",
       "      <td>3.296139e-03</td>\n",
       "      <td>168.075545</td>\n",
       "      <td>0</td>\n",
       "      <td>0</td>\n",
       "      <td>0</td>\n",
       "      <td>1</td>\n",
       "      <td>0</td>\n",
       "      <td>0</td>\n",
       "    </tr>\n",
       "    <tr>\n",
       "      <th>5</th>\n",
       "      <td>0.000006</td>\n",
       "      <td>1.702584</td>\n",
       "      <td>162.828458</td>\n",
       "      <td>6.102202e-23</td>\n",
       "      <td>3.742464</td>\n",
       "      <td>0.504791</td>\n",
       "      <td>0.054562</td>\n",
       "      <td>0.851326</td>\n",
       "      <td>1.270483</td>\n",
       "      <td>40.853403</td>\n",
       "      <td>3.957842</td>\n",
       "      <td>2.863952e-04</td>\n",
       "      <td>365.639045</td>\n",
       "      <td>0</td>\n",
       "      <td>0</td>\n",
       "      <td>0</td>\n",
       "      <td>0</td>\n",
       "      <td>1</td>\n",
       "      <td>0</td>\n",
       "    </tr>\n",
       "  </tbody>\n",
       "</table>\n",
       "</div>"
      ],
      "text/plain": [
       "       Iron   Nitrate    Chloride           Lead      Zinc  Turbidity  \\\n",
       "0  0.000083  8.605777  122.799772   3.713298e-52  3.434827   0.022683   \n",
       "1  0.000081  3.734167  227.029851   7.849262e-94  1.245317   0.019007   \n",
       "2  0.020106  3.816994  230.995630   5.286616e-76  0.528280   0.319956   \n",
       "4  0.002167  9.925788  186.540872  4.171069e-132  3.807511   0.004867   \n",
       "5  0.000006  1.702584  162.828458   6.102202e-23  3.742464   0.504791   \n",
       "\n",
       "   Fluoride    Copper      Odor     Sulfate  Chlorine     Manganese  \\\n",
       "0  0.607283  0.144599  1.626212   87.266538  3.708178  2.269945e-15   \n",
       "1  0.622874  0.437835  1.686049  144.010981  3.292038  8.024076e-07   \n",
       "2  0.423423  0.431588  3.414619  275.702107  3.560224  7.007989e-02   \n",
       "4  0.222912  0.616574  0.795310  175.275175  3.177849  3.296139e-03   \n",
       "5  0.054562  0.851326  1.270483   40.853403  3.957842  2.863952e-04   \n",
       "\n",
       "   Total Dissolved Solids  Target  Colorless  Faint Yellow  Light Yellow  \\\n",
       "0              332.118789       0          1             0             0   \n",
       "1              284.641984       0          0             1             0   \n",
       "2              570.054094       0          0             0             1   \n",
       "4              168.075545       0          0             0             1   \n",
       "5              365.639045       0          0             0             0   \n",
       "\n",
       "   Near Colorless  Yellow  \n",
       "0               0       0  \n",
       "1               0       0  \n",
       "2               0       0  \n",
       "4               0       0  \n",
       "5               1       0  "
      ]
     },
     "execution_count": 40,
     "metadata": {},
     "output_type": "execute_result"
    }
   ],
   "source": [
    "df3.head()"
   ]
  },
  {
   "cell_type": "code",
   "execution_count": 41,
   "id": "57001d88",
   "metadata": {},
   "outputs": [],
   "source": [
    "from sklearn.model_selection import train_test_split\n",
    "X_train, X_test, y_train, y_test = train_test_split(x,y,test_size=0.2)"
   ]
  },
  {
   "cell_type": "code",
   "execution_count": 42,
   "id": "e1b56c50",
   "metadata": {},
   "outputs": [
    {
     "name": "stderr",
     "output_type": "stream",
     "text": [
      "/Users/shivamsourav/opt/anaconda3/lib/python3.9/site-packages/daal4py/sklearn/linear_model/logistic_path.py:459: ConvergenceWarning: lbfgs failed to converge (status=1):\n",
      "STOP: TOTAL NO. of ITERATIONS REACHED LIMIT.\n",
      "\n",
      "Increase the number of iterations (max_iter) or scale the data as shown in:\n",
      "    https://scikit-learn.org/stable/modules/preprocessing.html\n",
      "Please also refer to the documentation for alternative solver options:\n",
      "    https://scikit-learn.org/stable/modules/linear_model.html#logistic-regression\n",
      "  n_iter_i = _check_optimize_result(\n"
     ]
    },
    {
     "name": "stdout",
     "output_type": "stream",
     "text": [
      "Train Score =  78.00451584166336\n",
      "Test Score =  78.1098136474058\n",
      "CPU times: user 14.4 s, sys: 1.16 s, total: 15.5 s\n",
      "Wall time: 3.85 s\n"
     ]
    }
   ],
   "source": [
    "%%time\n",
    "from sklearn.linear_model import LogisticRegression\n",
    "log=LogisticRegression()\n",
    "log.fit(X_train,y_train)\n",
    "print('Train Score = ',log.score(X_train,y_train)*100)\n",
    "print('Test Score = ' ,log.score(X_test,y_test)*100)"
   ]
  },
  {
   "cell_type": "code",
   "execution_count": 43,
   "id": "663981fe",
   "metadata": {},
   "outputs": [
    {
     "name": "stdout",
     "output_type": "stream",
     "text": [
      "Train Score =  60.810532495248474\n",
      "Test Score =  60.857522484585935\n",
      "CPU times: user 2.19 s, sys: 873 ms, total: 3.07 s\n",
      "Wall time: 1.51 s\n"
     ]
    }
   ],
   "source": [
    "%%time\n",
    "from sklearn.naive_bayes import MultinomialNB\n",
    "gnb = MultinomialNB()\n",
    "gnb.fit(X_train, y_train)\n",
    "print('Train Score = ',gnb.score(X_train, y_train)*100)\n",
    "print('Test Score = ' ,gnb.score(X_test,y_test)*100)"
   ]
  },
  {
   "cell_type": "code",
   "execution_count": 44,
   "id": "6feeca1e",
   "metadata": {},
   "outputs": [
    {
     "name": "stdout",
     "output_type": "stream",
     "text": [
      "Train Score =  79.84388074804912\n",
      "Test Score =  79.89960722923088\n",
      "CPU times: user 2.17 s, sys: 1.75 s, total: 3.92 s\n",
      "Wall time: 3.43 s\n"
     ]
    }
   ],
   "source": [
    "%%time\n",
    "from sklearn.naive_bayes import GaussianNB\n",
    "gnb = GaussianNB()\n",
    "gnb.fit(X_train, y_train)\n",
    "print('Train Score = ',gnb.score(X_train, y_train)*100)\n",
    "print('Test Score = ' ,gnb.score(X_test,y_test)*100)"
   ]
  },
  {
   "cell_type": "code",
   "execution_count": null,
   "id": "930f91b7",
   "metadata": {},
   "outputs": [],
   "source": []
  },
  {
   "cell_type": "markdown",
   "id": "b4a07195",
   "metadata": {},
   "source": [
    "# DATAFRAME WITH FILLING MEAN VALUES"
   ]
  },
  {
   "cell_type": "code",
   "execution_count": 45,
   "id": "f976439b",
   "metadata": {},
   "outputs": [
    {
     "name": "stderr",
     "output_type": "stream",
     "text": [
      "/Users/shivamsourav/opt/anaconda3/lib/python3.9/site-packages/seaborn/categorical.py:82: FutureWarning: iteritems is deprecated and will be removed in a future version. Use .items instead.\n",
      "  plot_data = [np.asarray(s, float) for k, s in iter_data]\n"
     ]
    },
    {
     "data": {
      "image/png": "[encoded data removed]",
      "text/plain": [
       "<Figure size 1800x864 with 1 Axes>"
      ]
     },
     "metadata": {
      "needs_background": "light"
     },
     "output_type": "display_data"
    }
   ],
   "source": [
    "plt.figure(figsize=(25,12))\n",
    "sns.boxplot(data=df3)\n",
    "plt.show()"
   ]
  },
  {
   "cell_type": "code",
   "execution_count": 46,
   "id": "a468b063",
   "metadata": {},
   "outputs": [
    {
     "data": {
      "text/plain": [
       "count    4624831.00000\n",
       "mean         184.30504\n",
       "std           68.42889\n",
       "min           23.63919\n",
       "25%          138.14123\n",
       "50%          176.03036\n",
       "75%          217.98448\n",
       "max         1430.54885\n",
       "Name: Chloride, dtype: object"
      ]
     },
     "execution_count": 46,
     "metadata": {},
     "output_type": "execute_result"
    }
   ],
   "source": [
    "df3['Chloride'].describe().apply(\"{0:.5f}\".format)"
   ]
  },
  {
   "cell_type": "code",
   "execution_count": 47,
   "id": "4d889a45",
   "metadata": {},
   "outputs": [
    {
     "data": {
      "text/plain": [
       "count    4624831.00000\n",
       "mean         146.07900\n",
       "std           68.83829\n",
       "min           11.94073\n",
       "25%           97.76527\n",
       "50%          134.62971\n",
       "75%          181.76107\n",
       "max         1434.58654\n",
       "Name: Sulfate, dtype: object"
      ]
     },
     "execution_count": 47,
     "metadata": {},
     "output_type": "execute_result"
    }
   ],
   "source": [
    "df3['Sulfate'].describe().apply(\"{0:.5f}\".format)"
   ]
  },
  {
   "cell_type": "code",
   "execution_count": 48,
   "id": "9cc187ee",
   "metadata": {},
   "outputs": [
    {
     "data": {
      "text/plain": [
       "count    4624831.00000\n",
       "mean           6.17086\n",
       "std            3.25762\n",
       "min            0.28617\n",
       "25%            3.97328\n",
       "50%            5.60446\n",
       "75%            7.67379\n",
       "max           96.39078\n",
       "Name: Nitrate, dtype: object"
      ]
     },
     "execution_count": 48,
     "metadata": {},
     "output_type": "execute_result"
    }
   ],
   "source": [
    "df3['Nitrate'].describe().apply(\"{0:.5f}\".format)"
   ]
  },
  {
   "cell_type": "code",
   "execution_count": 49,
   "id": "1c354161",
   "metadata": {},
   "outputs": [
    {
     "data": {
      "text/plain": [
       "Iron                       39753\n",
       "Nitrate                   105725\n",
       "Chloride                  175531\n",
       "Lead                       26909\n",
       "Zinc                      156126\n",
       "Turbidity                  49815\n",
       "Fluoride                  189156\n",
       "Copper                    199402\n",
       "Odor                      178891\n",
       "Sulfate                   197418\n",
       "Chlorine                   57825\n",
       "Manganese                 109583\n",
       "Total Dissolved Solids      1670\n",
       "Target                         0\n",
       "Colorless                      0\n",
       "Faint Yellow                   0\n",
       "Light Yellow                   0\n",
       "Near Colorless                 0\n",
       "Yellow                         0\n",
       "dtype: int64"
      ]
     },
     "execution_count": 49,
     "metadata": {},
     "output_type": "execute_result"
    }
   ],
   "source": [
    "df4=df2.copy()\n",
    "df4.isnull().sum()"
   ]
  },
  {
   "cell_type": "code",
   "execution_count": 50,
   "id": "d601f0b1",
   "metadata": {},
   "outputs": [
    {
     "data": {
      "text/html": [
       "<div>\n",
       "<style scoped>\n",
       "    .dataframe tbody tr th:only-of-type {\n",
       "        vertical-align: middle;\n",
       "    }\n",
       "\n",
       "    .dataframe tbody tr th {\n",
       "        vertical-align: top;\n",
       "    }\n",
       "\n",
       "    .dataframe thead th {\n",
       "        text-align: right;\n",
       "    }\n",
       "</style>\n",
       "<table border=\"1\" class=\"dataframe\">\n",
       "  <thead>\n",
       "    <tr style=\"text-align: right;\">\n",
       "      <th></th>\n",
       "      <th>Iron</th>\n",
       "      <th>Nitrate</th>\n",
       "      <th>Chloride</th>\n",
       "      <th>Lead</th>\n",
       "      <th>Zinc</th>\n",
       "      <th>Turbidity</th>\n",
       "      <th>Fluoride</th>\n",
       "      <th>Copper</th>\n",
       "      <th>Odor</th>\n",
       "      <th>Sulfate</th>\n",
       "      <th>Chlorine</th>\n",
       "      <th>Manganese</th>\n",
       "      <th>Total Dissolved Solids</th>\n",
       "      <th>Target</th>\n",
       "      <th>Colorless</th>\n",
       "      <th>Faint Yellow</th>\n",
       "      <th>Light Yellow</th>\n",
       "      <th>Near Colorless</th>\n",
       "      <th>Yellow</th>\n",
       "    </tr>\n",
       "  </thead>\n",
       "  <tbody>\n",
       "    <tr>\n",
       "      <th>count</th>\n",
       "      <td>5.917089e+06</td>\n",
       "      <td>5.851117e+06</td>\n",
       "      <td>5.781311e+06</td>\n",
       "      <td>5.929933e+06</td>\n",
       "      <td>5.800716e+06</td>\n",
       "      <td>5.907027e+06</td>\n",
       "      <td>5.767686e+06</td>\n",
       "      <td>5.757440e+06</td>\n",
       "      <td>5.777951e+06</td>\n",
       "      <td>5.759424e+06</td>\n",
       "      <td>5.899017e+06</td>\n",
       "      <td>5.847259e+06</td>\n",
       "      <td>5.955172e+06</td>\n",
       "      <td>5.956842e+06</td>\n",
       "      <td>5.956842e+06</td>\n",
       "      <td>5.956842e+06</td>\n",
       "      <td>5.956842e+06</td>\n",
       "      <td>5.956842e+06</td>\n",
       "      <td>5.956842e+06</td>\n",
       "    </tr>\n",
       "    <tr>\n",
       "      <th>mean</th>\n",
       "      <td>1.279027e-01</td>\n",
       "      <td>6.169970e+00</td>\n",
       "      <td>1.842970e+02</td>\n",
       "      <td>1.498336e-03</td>\n",
       "      <td>1.550255e+00</td>\n",
       "      <td>5.215093e-01</td>\n",
       "      <td>9.644315e-01</td>\n",
       "      <td>5.161216e-01</td>\n",
       "      <td>1.803459e+00</td>\n",
       "      <td>1.460764e+02</td>\n",
       "      <td>3.255738e+00</td>\n",
       "      <td>1.092802e-01</td>\n",
       "      <td>2.671454e+02</td>\n",
       "      <td>3.030552e-01</td>\n",
       "      <td>3.011075e-01</td>\n",
       "      <td>1.812658e-01</td>\n",
       "      <td>1.272718e-01</td>\n",
       "      <td>2.998626e-01</td>\n",
       "      <td>9.049224e-02</td>\n",
       "    </tr>\n",
       "    <tr>\n",
       "      <th>std</th>\n",
       "      <td>4.799915e-01</td>\n",
       "      <td>3.256667e+00</td>\n",
       "      <td>6.842828e+01</td>\n",
       "      <td>3.250641e-02</td>\n",
       "      <td>1.546368e+00</td>\n",
       "      <td>9.258807e-01</td>\n",
       "      <td>8.247870e-01</td>\n",
       "      <td>5.965534e-01</td>\n",
       "      <td>1.069586e+00</td>\n",
       "      <td>6.879844e+01</td>\n",
       "      <td>7.328441e-01</td>\n",
       "      <td>4.761827e-01</td>\n",
       "      <td>1.558586e+02</td>\n",
       "      <td>4.595789e-01</td>\n",
       "      <td>4.587394e-01</td>\n",
       "      <td>3.852383e-01</td>\n",
       "      <td>3.332772e-01</td>\n",
       "      <td>4.581976e-01</td>\n",
       "      <td>2.868857e-01</td>\n",
       "    </tr>\n",
       "    <tr>\n",
       "      <th>min</th>\n",
       "      <td>2.047587e-53</td>\n",
       "      <td>2.861727e-01</td>\n",
       "      <td>2.363919e+01</td>\n",
       "      <td>0.000000e+00</td>\n",
       "      <td>1.482707e-08</td>\n",
       "      <td>1.029712e-16</td>\n",
       "      <td>4.550148e-06</td>\n",
       "      <td>2.982735e-10</td>\n",
       "      <td>1.100007e-02</td>\n",
       "      <td>1.194073e+01</td>\n",
       "      <td>9.019921e-01</td>\n",
       "      <td>4.793505e-55</td>\n",
       "      <td>1.048902e-02</td>\n",
       "      <td>0.000000e+00</td>\n",
       "      <td>0.000000e+00</td>\n",
       "      <td>0.000000e+00</td>\n",
       "      <td>0.000000e+00</td>\n",
       "      <td>0.000000e+00</td>\n",
       "      <td>0.000000e+00</td>\n",
       "    </tr>\n",
       "    <tr>\n",
       "      <th>25%</th>\n",
       "      <td>9.992949e-06</td>\n",
       "      <td>3.973078e+00</td>\n",
       "      <td>1.381341e+02</td>\n",
       "      <td>1.500283e-122</td>\n",
       "      <td>4.148202e-01</td>\n",
       "      <td>3.872368e-02</td>\n",
       "      <td>3.749503e-01</td>\n",
       "      <td>1.288629e-01</td>\n",
       "      <td>8.921019e-01</td>\n",
       "      <td>9.777114e+01</td>\n",
       "      <td>2.744504e+00</td>\n",
       "      <td>2.522376e-06</td>\n",
       "      <td>1.329157e+02</td>\n",
       "      <td>0.000000e+00</td>\n",
       "      <td>0.000000e+00</td>\n",
       "      <td>0.000000e+00</td>\n",
       "      <td>0.000000e+00</td>\n",
       "      <td>0.000000e+00</td>\n",
       "      <td>0.000000e+00</td>\n",
       "    </tr>\n",
       "    <tr>\n",
       "      <th>50%</th>\n",
       "      <td>2.249640e-03</td>\n",
       "      <td>5.604051e+00</td>\n",
       "      <td>1.760178e+02</td>\n",
       "      <td>2.213625e-62</td>\n",
       "      <td>1.081818e+00</td>\n",
       "      <td>2.097680e-01</td>\n",
       "      <td>7.751792e-01</td>\n",
       "      <td>3.479592e-01</td>\n",
       "      <td>1.774284e+00</td>\n",
       "      <td>1.346489e+02</td>\n",
       "      <td>3.209748e+00</td>\n",
       "      <td>6.481943e-04</td>\n",
       "      <td>2.658880e+02</td>\n",
       "      <td>0.000000e+00</td>\n",
       "      <td>0.000000e+00</td>\n",
       "      <td>0.000000e+00</td>\n",
       "      <td>0.000000e+00</td>\n",
       "      <td>0.000000e+00</td>\n",
       "      <td>0.000000e+00</td>\n",
       "    </tr>\n",
       "    <tr>\n",
       "      <th>75%</th>\n",
       "      <td>5.455290e-02</td>\n",
       "      <td>7.672402e+00</td>\n",
       "      <td>2.179811e+02</td>\n",
       "      <td>3.592165e-27</td>\n",
       "      <td>2.230841e+00</td>\n",
       "      <td>6.249132e-01</td>\n",
       "      <td>1.341508e+00</td>\n",
       "      <td>7.010104e-01</td>\n",
       "      <td>2.654286e+00</td>\n",
       "      <td>1.817703e+02</td>\n",
       "      <td>3.705217e+00</td>\n",
       "      <td>1.672082e-02</td>\n",
       "      <td>3.984954e+02</td>\n",
       "      <td>1.000000e+00</td>\n",
       "      <td>1.000000e+00</td>\n",
       "      <td>0.000000e+00</td>\n",
       "      <td>0.000000e+00</td>\n",
       "      <td>1.000000e+00</td>\n",
       "      <td>0.000000e+00</td>\n",
       "    </tr>\n",
       "    <tr>\n",
       "      <th>max</th>\n",
       "      <td>1.935315e+01</td>\n",
       "      <td>9.639078e+01</td>\n",
       "      <td>1.507310e+03</td>\n",
       "      <td>5.844281e+00</td>\n",
       "      <td>2.836867e+01</td>\n",
       "      <td>2.371527e+01</td>\n",
       "      <td>1.464625e+01</td>\n",
       "      <td>1.207482e+01</td>\n",
       "      <td>4.141998e+00</td>\n",
       "      <td>1.434587e+03</td>\n",
       "      <td>1.256663e+01</td>\n",
       "      <td>2.374086e+01</td>\n",
       "      <td>5.797999e+02</td>\n",
       "      <td>1.000000e+00</td>\n",
       "      <td>1.000000e+00</td>\n",
       "      <td>1.000000e+00</td>\n",
       "      <td>1.000000e+00</td>\n",
       "      <td>1.000000e+00</td>\n",
       "      <td>1.000000e+00</td>\n",
       "    </tr>\n",
       "  </tbody>\n",
       "</table>\n",
       "</div>"
      ],
      "text/plain": [
       "               Iron       Nitrate      Chloride           Lead          Zinc  \\\n",
       "count  5.917089e+06  5.851117e+06  5.781311e+06   5.929933e+06  5.800716e+06   \n",
       "mean   1.279027e-01  6.169970e+00  1.842970e+02   1.498336e-03  1.550255e+00   \n",
       "std    4.799915e-01  3.256667e+00  6.842828e+01   3.250641e-02  1.546368e+00   \n",
       "min    2.047587e-53  2.861727e-01  2.363919e+01   0.000000e+00  1.482707e-08   \n",
       "25%    9.992949e-06  3.973078e+00  1.381341e+02  1.500283e-122  4.148202e-01   \n",
       "50%    2.249640e-03  5.604051e+00  1.760178e+02   2.213625e-62  1.081818e+00   \n",
       "75%    5.455290e-02  7.672402e+00  2.179811e+02   3.592165e-27  2.230841e+00   \n",
       "max    1.935315e+01  9.639078e+01  1.507310e+03   5.844281e+00  2.836867e+01   \n",
       "\n",
       "          Turbidity      Fluoride        Copper          Odor       Sulfate  \\\n",
       "count  5.907027e+06  5.767686e+06  5.757440e+06  5.777951e+06  5.759424e+06   \n",
       "mean   5.215093e-01  9.644315e-01  5.161216e-01  1.803459e+00  1.460764e+02   \n",
       "std    9.258807e-01  8.247870e-01  5.965534e-01  1.069586e+00  6.879844e+01   \n",
       "min    1.029712e-16  4.550148e-06  2.982735e-10  1.100007e-02  1.194073e+01   \n",
       "25%    3.872368e-02  3.749503e-01  1.288629e-01  8.921019e-01  9.777114e+01   \n",
       "50%    2.097680e-01  7.751792e-01  3.479592e-01  1.774284e+00  1.346489e+02   \n",
       "75%    6.249132e-01  1.341508e+00  7.010104e-01  2.654286e+00  1.817703e+02   \n",
       "max    2.371527e+01  1.464625e+01  1.207482e+01  4.141998e+00  1.434587e+03   \n",
       "\n",
       "           Chlorine     Manganese  Total Dissolved Solids        Target  \\\n",
       "count  5.899017e+06  5.847259e+06            5.955172e+06  5.956842e+06   \n",
       "mean   3.255738e+00  1.092802e-01            2.671454e+02  3.030552e-01   \n",
       "std    7.328441e-01  4.761827e-01            1.558586e+02  4.595789e-01   \n",
       "min    9.019921e-01  4.793505e-55            1.048902e-02  0.000000e+00   \n",
       "25%    2.744504e+00  2.522376e-06            1.329157e+02  0.000000e+00   \n",
       "50%    3.209748e+00  6.481943e-04            2.658880e+02  0.000000e+00   \n",
       "75%    3.705217e+00  1.672082e-02            3.984954e+02  1.000000e+00   \n",
       "max    1.256663e+01  2.374086e+01            5.797999e+02  1.000000e+00   \n",
       "\n",
       "          Colorless  Faint Yellow  Light Yellow  Near Colorless        Yellow  \n",
       "count  5.956842e+06  5.956842e+06  5.956842e+06    5.956842e+06  5.956842e+06  \n",
       "mean   3.011075e-01  1.812658e-01  1.272718e-01    2.998626e-01  9.049224e-02  \n",
       "std    4.587394e-01  3.852383e-01  3.332772e-01    4.581976e-01  2.868857e-01  \n",
       "min    0.000000e+00  0.000000e+00  0.000000e+00    0.000000e+00  0.000000e+00  \n",
       "25%    0.000000e+00  0.000000e+00  0.000000e+00    0.000000e+00  0.000000e+00  \n",
       "50%    0.000000e+00  0.000000e+00  0.000000e+00    0.000000e+00  0.000000e+00  \n",
       "75%    1.000000e+00  0.000000e+00  0.000000e+00    1.000000e+00  0.000000e+00  \n",
       "max    1.000000e+00  1.000000e+00  1.000000e+00    1.000000e+00  1.000000e+00  "
      ]
     },
     "execution_count": 50,
     "metadata": {},
     "output_type": "execute_result"
    }
   ],
   "source": [
    "df4.describe()"
   ]
  },
  {
   "cell_type": "code",
   "execution_count": 51,
   "id": "b92fbbaf",
   "metadata": {},
   "outputs": [
    {
     "data": {
      "text/plain": [
       "Iron                        0.127903\n",
       "Nitrate                     6.169970\n",
       "Chloride                  184.296981\n",
       "Lead                        0.001498\n",
       "Zinc                        1.550255\n",
       "Turbidity                   0.521509\n",
       "Fluoride                    0.964431\n",
       "Copper                      0.516122\n",
       "Odor                        1.803459\n",
       "Sulfate                   146.076443\n",
       "Chlorine                    3.255738\n",
       "Manganese                   0.109280\n",
       "Total Dissolved Solids    267.145372\n",
       "Target                      0.303055\n",
       "Colorless                   0.301108\n",
       "Faint Yellow                0.181266\n",
       "Light Yellow                0.127272\n",
       "Near Colorless              0.299863\n",
       "Yellow                      0.090492\n",
       "dtype: float64"
      ]
     },
     "execution_count": 51,
     "metadata": {},
     "output_type": "execute_result"
    }
   ],
   "source": [
    "df4.mean()"
   ]
  },
  {
   "cell_type": "code",
   "execution_count": 52,
   "id": "08aa986e",
   "metadata": {},
   "outputs": [],
   "source": [
    "df4.fillna(df4.mean(),inplace=True)"
   ]
  },
  {
   "cell_type": "code",
   "execution_count": 53,
   "id": "80ab6948",
   "metadata": {},
   "outputs": [
    {
     "data": {
      "text/plain": [
       "Iron                      0\n",
       "Nitrate                   0\n",
       "Chloride                  0\n",
       "Lead                      0\n",
       "Zinc                      0\n",
       "Turbidity                 0\n",
       "Fluoride                  0\n",
       "Copper                    0\n",
       "Odor                      0\n",
       "Sulfate                   0\n",
       "Chlorine                  0\n",
       "Manganese                 0\n",
       "Total Dissolved Solids    0\n",
       "Target                    0\n",
       "Colorless                 0\n",
       "Faint Yellow              0\n",
       "Light Yellow              0\n",
       "Near Colorless            0\n",
       "Yellow                    0\n",
       "dtype: int64"
      ]
     },
     "execution_count": 53,
     "metadata": {},
     "output_type": "execute_result"
    }
   ],
   "source": [
    "df4.isnull().sum()"
   ]
  },
  {
   "cell_type": "code",
   "execution_count": 54,
   "id": "2451ef2a",
   "metadata": {},
   "outputs": [
    {
     "data": {
      "text/plain": [
       "(5956842,)"
      ]
     },
     "execution_count": 54,
     "metadata": {},
     "output_type": "execute_result"
    }
   ],
   "source": [
    "y=df4['Target']\n",
    "x=df4.drop(['Target'],axis=1)\n",
    "x.shape\n",
    "y.shape"
   ]
  },
  {
   "cell_type": "code",
   "execution_count": 55,
   "id": "0452e9dc",
   "metadata": {},
   "outputs": [],
   "source": [
    "from sklearn.model_selection import train_test_split\n",
    "X_train, X_test, y_train, y_test = train_test_split(x,y,test_size=0.2)"
   ]
  },
  {
   "cell_type": "code",
   "execution_count": 56,
   "id": "36ba337c",
   "metadata": {},
   "outputs": [
    {
     "name": "stderr",
     "output_type": "stream",
     "text": [
      "/Users/shivamsourav/opt/anaconda3/lib/python3.9/site-packages/daal4py/sklearn/linear_model/logistic_path.py:459: ConvergenceWarning: lbfgs failed to converge (status=1):\n",
      "STOP: TOTAL NO. of ITERATIONS REACHED LIMIT.\n",
      "\n",
      "Increase the number of iterations (max_iter) or scale the data as shown in:\n",
      "    https://scikit-learn.org/stable/modules/preprocessing.html\n",
      "Please also refer to the documentation for alternative solver options:\n",
      "    https://scikit-learn.org/stable/modules/linear_model.html#logistic-regression\n",
      "  n_iter_i = _check_optimize_result(\n"
     ]
    },
    {
     "name": "stdout",
     "output_type": "stream",
     "text": [
      "Train Score =  77.93667071453348\n",
      "Test Score =  77.9476383891137\n",
      "CPU times: user 17.6 s, sys: 7.82 s, total: 25.4 s\n",
      "Wall time: 6.3 s\n"
     ]
    }
   ],
   "source": [
    "%%time\n",
    "from sklearn.linear_model import LogisticRegression\n",
    "log=LogisticRegression()\n",
    "log.fit(X_train,y_train)\n",
    "print('Train Score = ',log.score(X_train,y_train)*100)\n",
    "print('Test Score = ' ,log.score(X_test,y_test)*100)"
   ]
  },
  {
   "cell_type": "code",
   "execution_count": 57,
   "id": "3ce40305",
   "metadata": {},
   "outputs": [
    {
     "name": "stderr",
     "output_type": "stream",
     "text": [
      "/Users/shivamsourav/opt/anaconda3/lib/python3.9/site-packages/daal4py/sklearn/linear_model/logistic_path.py:459: ConvergenceWarning: lbfgs failed to converge (status=1):\n",
      "STOP: TOTAL NO. of ITERATIONS REACHED LIMIT.\n",
      "\n",
      "Increase the number of iterations (max_iter) or scale the data as shown in:\n",
      "    https://scikit-learn.org/stable/modules/preprocessing.html\n",
      "Please also refer to the documentation for alternative solver options:\n",
      "    https://scikit-learn.org/stable/modules/linear_model.html#logistic-regression\n",
      "  n_iter_i = _check_optimize_result(\n"
     ]
    },
    {
     "name": "stdout",
     "output_type": "stream",
     "text": [
      "Train Score =  77.93667071453348\n",
      "Test Score =  77.9476383891137\n",
      "CPU times: user 17.6 s, sys: 7.73 s, total: 25.3 s\n",
      "Wall time: 5.8 s\n"
     ]
    }
   ],
   "source": [
    "%%time\n",
    "from sklearnex.linear_model import LogisticRegression\n",
    "log=LogisticRegression()\n",
    "log.fit(X_train,y_train)\n",
    "print('Train Score = ',log.score(X_train,y_train)*100)\n",
    "print('Test Score = ' ,log.score(X_test,y_test)*100)"
   ]
  },
  {
   "cell_type": "code",
   "execution_count": 58,
   "id": "bd6e58b6",
   "metadata": {},
   "outputs": [
    {
     "name": "stdout",
     "output_type": "stream",
     "text": [
      "Train Score =  61.827461828028405\n",
      "Test Score =  61.87570769425762\n",
      "CPU times: user 2.77 s, sys: 767 ms, total: 3.54 s\n",
      "Wall time: 1.44 s\n"
     ]
    }
   ],
   "source": [
    "%%time\n",
    "from sklearn.naive_bayes import MultinomialNB\n",
    "gnb = MultinomialNB()\n",
    "gnb.fit(X_train, y_train)\n",
    "print('Train Score = ',gnb.score(X_train, y_train)*100)\n",
    "print('Test Score = ' ,gnb.score(X_test,y_test)*100)"
   ]
  },
  {
   "cell_type": "code",
   "execution_count": 59,
   "id": "e75c74db",
   "metadata": {},
   "outputs": [
    {
     "name": "stdout",
     "output_type": "stream",
     "text": [
      "Train Score =  79.80553032196384\n",
      "Test Score =  79.79030846026714\n",
      "CPU times: user 2.61 s, sys: 2.69 s, total: 5.3 s\n",
      "Wall time: 5.53 s\n"
     ]
    }
   ],
   "source": [
    "%%time\n",
    "from sklearn.naive_bayes import GaussianNB\n",
    "gnb = GaussianNB()\n",
    "gnb.fit(X_train, y_train)\n",
    "print('Train Score = ',gnb.score(X_train, y_train)*100)\n",
    "print('Test Score = ' ,gnb.score(X_test,y_test)*100)"
   ]
  },
  {
   "cell_type": "code",
   "execution_count": 60,
   "id": "75c8a7f1",
   "metadata": {},
   "outputs": [
    {
     "name": "stdout",
     "output_type": "stream",
     "text": [
      "Train Score =  99.91627273934822\n",
      "Test Score =  88.21658109284361\n",
      "CPU times: user 29min 34s, sys: 12min 9s, total: 41min 43s\n",
      "Wall time: 8min 17s\n"
     ]
    }
   ],
   "source": [
    "%%time\n",
    "from sklearnex.ensemble import RandomForestClassifier\n",
    "clf = RandomForestClassifier()\n",
    "clf.fit(X_train,y_train)\n",
    "print('Train Score = ',clf.score(X_train,y_train)*100)\n",
    "print('Test Score = ' ,clf.score(X_test,y_test)*100)"
   ]
  },
  {
   "cell_type": "code",
   "execution_count": 67,
   "id": "767e0db2",
   "metadata": {},
   "outputs": [
    {
     "data": {
      "text/html": [
       "<div>\n",
       "<style scoped>\n",
       "    .dataframe tbody tr th:only-of-type {\n",
       "        vertical-align: middle;\n",
       "    }\n",
       "\n",
       "    .dataframe tbody tr th {\n",
       "        vertical-align: top;\n",
       "    }\n",
       "\n",
       "    .dataframe thead th {\n",
       "        text-align: right;\n",
       "    }\n",
       "</style>\n",
       "<table border=\"1\" class=\"dataframe\">\n",
       "  <thead>\n",
       "    <tr style=\"text-align: right;\">\n",
       "      <th></th>\n",
       "      <th>Iron</th>\n",
       "      <th>Nitrate</th>\n",
       "      <th>Chloride</th>\n",
       "      <th>Lead</th>\n",
       "      <th>Zinc</th>\n",
       "      <th>Turbidity</th>\n",
       "      <th>Fluoride</th>\n",
       "      <th>Copper</th>\n",
       "      <th>Odor</th>\n",
       "      <th>Sulfate</th>\n",
       "      <th>Chlorine</th>\n",
       "      <th>Manganese</th>\n",
       "      <th>Total Dissolved Solids</th>\n",
       "      <th>Target</th>\n",
       "      <th>Colorless</th>\n",
       "      <th>Faint Yellow</th>\n",
       "      <th>Light Yellow</th>\n",
       "      <th>Near Colorless</th>\n",
       "      <th>Yellow</th>\n",
       "    </tr>\n",
       "  </thead>\n",
       "  <tbody>\n",
       "    <tr>\n",
       "      <th>0</th>\n",
       "      <td>0.000083</td>\n",
       "      <td>8.605777</td>\n",
       "      <td>122.799772</td>\n",
       "      <td>3.713298e-52</td>\n",
       "      <td>3.434827</td>\n",
       "      <td>0.022683</td>\n",
       "      <td>0.607283</td>\n",
       "      <td>0.144599</td>\n",
       "      <td>1.626212</td>\n",
       "      <td>87.266538</td>\n",
       "      <td>3.708178</td>\n",
       "      <td>2.269945e-15</td>\n",
       "      <td>332.118789</td>\n",
       "      <td>0</td>\n",
       "      <td>1</td>\n",
       "      <td>0</td>\n",
       "      <td>0</td>\n",
       "      <td>0</td>\n",
       "      <td>0</td>\n",
       "    </tr>\n",
       "    <tr>\n",
       "      <th>1</th>\n",
       "      <td>0.000081</td>\n",
       "      <td>3.734167</td>\n",
       "      <td>227.029851</td>\n",
       "      <td>7.849262e-94</td>\n",
       "      <td>1.245317</td>\n",
       "      <td>0.019007</td>\n",
       "      <td>0.622874</td>\n",
       "      <td>0.437835</td>\n",
       "      <td>1.686049</td>\n",
       "      <td>144.010981</td>\n",
       "      <td>3.292038</td>\n",
       "      <td>8.024076e-07</td>\n",
       "      <td>284.641984</td>\n",
       "      <td>0</td>\n",
       "      <td>0</td>\n",
       "      <td>1</td>\n",
       "      <td>0</td>\n",
       "      <td>0</td>\n",
       "      <td>0</td>\n",
       "    </tr>\n",
       "    <tr>\n",
       "      <th>2</th>\n",
       "      <td>0.020106</td>\n",
       "      <td>3.816994</td>\n",
       "      <td>230.995630</td>\n",
       "      <td>5.286616e-76</td>\n",
       "      <td>0.528280</td>\n",
       "      <td>0.319956</td>\n",
       "      <td>0.423423</td>\n",
       "      <td>0.431588</td>\n",
       "      <td>3.414619</td>\n",
       "      <td>275.702107</td>\n",
       "      <td>3.560224</td>\n",
       "      <td>7.007989e-02</td>\n",
       "      <td>570.054094</td>\n",
       "      <td>0</td>\n",
       "      <td>0</td>\n",
       "      <td>0</td>\n",
       "      <td>1</td>\n",
       "      <td>0</td>\n",
       "      <td>0</td>\n",
       "    </tr>\n",
       "    <tr>\n",
       "      <th>3</th>\n",
       "      <td>0.143988</td>\n",
       "      <td>8.224944</td>\n",
       "      <td>178.129940</td>\n",
       "      <td>3.997118e-176</td>\n",
       "      <td>4.027879</td>\n",
       "      <td>0.166319</td>\n",
       "      <td>0.208454</td>\n",
       "      <td>0.239451</td>\n",
       "      <td>1.803459</td>\n",
       "      <td>147.163233</td>\n",
       "      <td>3.516907</td>\n",
       "      <td>2.468295e-02</td>\n",
       "      <td>100.043838</td>\n",
       "      <td>0</td>\n",
       "      <td>0</td>\n",
       "      <td>0</td>\n",
       "      <td>0</td>\n",
       "      <td>1</td>\n",
       "      <td>0</td>\n",
       "    </tr>\n",
       "    <tr>\n",
       "      <th>4</th>\n",
       "      <td>0.002167</td>\n",
       "      <td>9.925788</td>\n",
       "      <td>186.540872</td>\n",
       "      <td>4.171069e-132</td>\n",
       "      <td>3.807511</td>\n",
       "      <td>0.004867</td>\n",
       "      <td>0.222912</td>\n",
       "      <td>0.616574</td>\n",
       "      <td>0.795310</td>\n",
       "      <td>175.275175</td>\n",
       "      <td>3.177849</td>\n",
       "      <td>3.296139e-03</td>\n",
       "      <td>168.075545</td>\n",
       "      <td>0</td>\n",
       "      <td>0</td>\n",
       "      <td>0</td>\n",
       "      <td>1</td>\n",
       "      <td>0</td>\n",
       "      <td>0</td>\n",
       "    </tr>\n",
       "    <tr>\n",
       "      <th>...</th>\n",
       "      <td>...</td>\n",
       "      <td>...</td>\n",
       "      <td>...</td>\n",
       "      <td>...</td>\n",
       "      <td>...</td>\n",
       "      <td>...</td>\n",
       "      <td>...</td>\n",
       "      <td>...</td>\n",
       "      <td>...</td>\n",
       "      <td>...</td>\n",
       "      <td>...</td>\n",
       "      <td>...</td>\n",
       "      <td>...</td>\n",
       "      <td>...</td>\n",
       "      <td>...</td>\n",
       "      <td>...</td>\n",
       "      <td>...</td>\n",
       "      <td>...</td>\n",
       "      <td>...</td>\n",
       "    </tr>\n",
       "    <tr>\n",
       "      <th>5951116</th>\n",
       "      <td>0.010322</td>\n",
       "      <td>2.780394</td>\n",
       "      <td>205.902390</td>\n",
       "      <td>2.041516e-58</td>\n",
       "      <td>2.907182</td>\n",
       "      <td>0.170415</td>\n",
       "      <td>1.981721</td>\n",
       "      <td>0.728926</td>\n",
       "      <td>1.803459</td>\n",
       "      <td>136.063424</td>\n",
       "      <td>2.169667</td>\n",
       "      <td>2.159094e-02</td>\n",
       "      <td>261.259152</td>\n",
       "      <td>0</td>\n",
       "      <td>1</td>\n",
       "      <td>0</td>\n",
       "      <td>0</td>\n",
       "      <td>0</td>\n",
       "      <td>0</td>\n",
       "    </tr>\n",
       "    <tr>\n",
       "      <th>5951117</th>\n",
       "      <td>0.381705</td>\n",
       "      <td>4.010833</td>\n",
       "      <td>138.753431</td>\n",
       "      <td>2.908382e-03</td>\n",
       "      <td>1.396928</td>\n",
       "      <td>2.935545</td>\n",
       "      <td>1.308578</td>\n",
       "      <td>0.000100</td>\n",
       "      <td>3.655343</td>\n",
       "      <td>80.188352</td>\n",
       "      <td>4.276378</td>\n",
       "      <td>2.160117e-04</td>\n",
       "      <td>19.111528</td>\n",
       "      <td>0</td>\n",
       "      <td>0</td>\n",
       "      <td>0</td>\n",
       "      <td>1</td>\n",
       "      <td>0</td>\n",
       "      <td>0</td>\n",
       "    </tr>\n",
       "    <tr>\n",
       "      <th>5951118</th>\n",
       "      <td>0.000002</td>\n",
       "      <td>9.249490</td>\n",
       "      <td>175.154127</td>\n",
       "      <td>8.661616e-299</td>\n",
       "      <td>0.360465</td>\n",
       "      <td>0.023153</td>\n",
       "      <td>0.508024</td>\n",
       "      <td>0.778255</td>\n",
       "      <td>1.931525</td>\n",
       "      <td>81.065619</td>\n",
       "      <td>2.086930</td>\n",
       "      <td>4.798445e-03</td>\n",
       "      <td>79.067326</td>\n",
       "      <td>0</td>\n",
       "      <td>1</td>\n",
       "      <td>0</td>\n",
       "      <td>0</td>\n",
       "      <td>0</td>\n",
       "      <td>0</td>\n",
       "    </tr>\n",
       "    <tr>\n",
       "      <th>5951119</th>\n",
       "      <td>0.003743</td>\n",
       "      <td>4.113244</td>\n",
       "      <td>212.996174</td>\n",
       "      <td>1.216801e-186</td>\n",
       "      <td>4.701343</td>\n",
       "      <td>2.777685</td>\n",
       "      <td>3.132026</td>\n",
       "      <td>3.837486</td>\n",
       "      <td>2.025294</td>\n",
       "      <td>96.931912</td>\n",
       "      <td>3.398044</td>\n",
       "      <td>1.669595e+00</td>\n",
       "      <td>491.300106</td>\n",
       "      <td>0</td>\n",
       "      <td>0</td>\n",
       "      <td>0</td>\n",
       "      <td>0</td>\n",
       "      <td>1</td>\n",
       "      <td>0</td>\n",
       "    </tr>\n",
       "    <tr>\n",
       "      <th>5951120</th>\n",
       "      <td>0.006866</td>\n",
       "      <td>9.396417</td>\n",
       "      <td>149.465992</td>\n",
       "      <td>2.995606e-29</td>\n",
       "      <td>0.916246</td>\n",
       "      <td>0.422743</td>\n",
       "      <td>0.485675</td>\n",
       "      <td>0.010381</td>\n",
       "      <td>1.952653</td>\n",
       "      <td>195.394368</td>\n",
       "      <td>3.143796</td>\n",
       "      <td>3.212182e-06</td>\n",
       "      <td>268.454125</td>\n",
       "      <td>0</td>\n",
       "      <td>0</td>\n",
       "      <td>0</td>\n",
       "      <td>0</td>\n",
       "      <td>1</td>\n",
       "      <td>0</td>\n",
       "    </tr>\n",
       "  </tbody>\n",
       "</table>\n",
       "<p>4151590 rows × 19 columns</p>\n",
       "</div>"
      ],
      "text/plain": [
       "             Iron   Nitrate    Chloride           Lead      Zinc  Turbidity  \\\n",
       "0        0.000083  8.605777  122.799772   3.713298e-52  3.434827   0.022683   \n",
       "1        0.000081  3.734167  227.029851   7.849262e-94  1.245317   0.019007   \n",
       "2        0.020106  3.816994  230.995630   5.286616e-76  0.528280   0.319956   \n",
       "3        0.143988  8.224944  178.129940  3.997118e-176  4.027879   0.166319   \n",
       "4        0.002167  9.925788  186.540872  4.171069e-132  3.807511   0.004867   \n",
       "...           ...       ...         ...            ...       ...        ...   \n",
       "5951116  0.010322  2.780394  205.902390   2.041516e-58  2.907182   0.170415   \n",
       "5951117  0.381705  4.010833  138.753431   2.908382e-03  1.396928   2.935545   \n",
       "5951118  0.000002  9.249490  175.154127  8.661616e-299  0.360465   0.023153   \n",
       "5951119  0.003743  4.113244  212.996174  1.216801e-186  4.701343   2.777685   \n",
       "5951120  0.006866  9.396417  149.465992   2.995606e-29  0.916246   0.422743   \n",
       "\n",
       "         Fluoride    Copper      Odor     Sulfate  Chlorine     Manganese  \\\n",
       "0        0.607283  0.144599  1.626212   87.266538  3.708178  2.269945e-15   \n",
       "1        0.622874  0.437835  1.686049  144.010981  3.292038  8.024076e-07   \n",
       "2        0.423423  0.431588  3.414619  275.702107  3.560224  7.007989e-02   \n",
       "3        0.208454  0.239451  1.803459  147.163233  3.516907  2.468295e-02   \n",
       "4        0.222912  0.616574  0.795310  175.275175  3.177849  3.296139e-03   \n",
       "...           ...       ...       ...         ...       ...           ...   \n",
       "5951116  1.981721  0.728926  1.803459  136.063424  2.169667  2.159094e-02   \n",
       "5951117  1.308578  0.000100  3.655343   80.188352  4.276378  2.160117e-04   \n",
       "5951118  0.508024  0.778255  1.931525   81.065619  2.086930  4.798445e-03   \n",
       "5951119  3.132026  3.837486  2.025294   96.931912  3.398044  1.669595e+00   \n",
       "5951120  0.485675  0.010381  1.952653  195.394368  3.143796  3.212182e-06   \n",
       "\n",
       "         Total Dissolved Solids  Target  Colorless  Faint Yellow  \\\n",
       "0                    332.118789       0          1             0   \n",
       "1                    284.641984       0          0             1   \n",
       "2                    570.054094       0          0             0   \n",
       "3                    100.043838       0          0             0   \n",
       "4                    168.075545       0          0             0   \n",
       "...                         ...     ...        ...           ...   \n",
       "5951116              261.259152       0          1             0   \n",
       "5951117               19.111528       0          0             0   \n",
       "5951118               79.067326       0          1             0   \n",
       "5951119              491.300106       0          0             0   \n",
       "5951120              268.454125       0          0             0   \n",
       "\n",
       "         Light Yellow  Near Colorless  Yellow  \n",
       "0                   0               0       0  \n",
       "1                   0               0       0  \n",
       "2                   1               0       0  \n",
       "3                   0               1       0  \n",
       "4                   1               0       0  \n",
       "...               ...             ...     ...  \n",
       "5951116             0               0       0  \n",
       "5951117             1               0       0  \n",
       "5951118             0               0       0  \n",
       "5951119             0               1       0  \n",
       "5951120             0               1       0  \n",
       "\n",
       "[4151590 rows x 19 columns]"
      ]
     },
     "execution_count": 67,
     "metadata": {},
     "output_type": "execute_result"
    }
   ],
   "source": [
    "df4[df['Target']==0]"
   ]
  },
  {
   "cell_type": "code",
   "execution_count": 115,
   "id": "fe49f87a",
   "metadata": {},
   "outputs": [
    {
     "data": {
      "text/html": [
       "<div>\n",
       "<style scoped>\n",
       "    .dataframe tbody tr th:only-of-type {\n",
       "        vertical-align: middle;\n",
       "    }\n",
       "\n",
       "    .dataframe tbody tr th {\n",
       "        vertical-align: top;\n",
       "    }\n",
       "\n",
       "    .dataframe thead th {\n",
       "        text-align: right;\n",
       "    }\n",
       "</style>\n",
       "<table border=\"1\" class=\"dataframe\">\n",
       "  <thead>\n",
       "    <tr style=\"text-align: right;\">\n",
       "      <th></th>\n",
       "      <th>Iron</th>\n",
       "      <th>Nitrate</th>\n",
       "      <th>Chloride</th>\n",
       "      <th>Lead</th>\n",
       "      <th>Zinc</th>\n",
       "      <th>Turbidity</th>\n",
       "      <th>Fluoride</th>\n",
       "      <th>Copper</th>\n",
       "      <th>Odor</th>\n",
       "      <th>Sulfate</th>\n",
       "      <th>Chlorine</th>\n",
       "      <th>Manganese</th>\n",
       "      <th>Total Dissolved Solids</th>\n",
       "      <th>Target</th>\n",
       "      <th>Colorless</th>\n",
       "      <th>Faint Yellow</th>\n",
       "      <th>Light Yellow</th>\n",
       "      <th>Near Colorless</th>\n",
       "      <th>Yellow</th>\n",
       "    </tr>\n",
       "  </thead>\n",
       "  <tbody>\n",
       "    <tr>\n",
       "      <th>266755</th>\n",
       "      <td>2.619650</td>\n",
       "      <td>1.389334</td>\n",
       "      <td>84.513108</td>\n",
       "      <td>3.337546e-13</td>\n",
       "      <td>1.978032</td>\n",
       "      <td>0.248652</td>\n",
       "      <td>1.691318</td>\n",
       "      <td>2.963968</td>\n",
       "      <td>0.772172</td>\n",
       "      <td>83.813450</td>\n",
       "      <td>5.966624</td>\n",
       "      <td>1.152750e-02</td>\n",
       "      <td>52.369446</td>\n",
       "      <td>1</td>\n",
       "      <td>0</td>\n",
       "      <td>1</td>\n",
       "      <td>0</td>\n",
       "      <td>0</td>\n",
       "      <td>0</td>\n",
       "    </tr>\n",
       "    <tr>\n",
       "      <th>266756</th>\n",
       "      <td>1.019157</td>\n",
       "      <td>4.908973</td>\n",
       "      <td>190.443656</td>\n",
       "      <td>4.855934e-39</td>\n",
       "      <td>1.128556</td>\n",
       "      <td>0.000030</td>\n",
       "      <td>0.964431</td>\n",
       "      <td>1.276920</td>\n",
       "      <td>1.160476</td>\n",
       "      <td>84.228139</td>\n",
       "      <td>2.635055</td>\n",
       "      <td>1.672897e-04</td>\n",
       "      <td>232.941036</td>\n",
       "      <td>1</td>\n",
       "      <td>0</td>\n",
       "      <td>0</td>\n",
       "      <td>1</td>\n",
       "      <td>0</td>\n",
       "      <td>0</td>\n",
       "    </tr>\n",
       "    <tr>\n",
       "      <th>266757</th>\n",
       "      <td>0.000137</td>\n",
       "      <td>10.552672</td>\n",
       "      <td>211.930128</td>\n",
       "      <td>1.888592e-48</td>\n",
       "      <td>2.848238</td>\n",
       "      <td>0.081378</td>\n",
       "      <td>1.610560</td>\n",
       "      <td>0.460880</td>\n",
       "      <td>1.278813</td>\n",
       "      <td>89.290890</td>\n",
       "      <td>3.265975</td>\n",
       "      <td>7.472054e-12</td>\n",
       "      <td>330.241630</td>\n",
       "      <td>1</td>\n",
       "      <td>1</td>\n",
       "      <td>0</td>\n",
       "      <td>0</td>\n",
       "      <td>0</td>\n",
       "      <td>0</td>\n",
       "    </tr>\n",
       "    <tr>\n",
       "      <th>266758</th>\n",
       "      <td>0.000005</td>\n",
       "      <td>5.703348</td>\n",
       "      <td>225.017979</td>\n",
       "      <td>1.917085e-28</td>\n",
       "      <td>0.400466</td>\n",
       "      <td>0.154662</td>\n",
       "      <td>0.070338</td>\n",
       "      <td>0.162591</td>\n",
       "      <td>1.038821</td>\n",
       "      <td>247.846145</td>\n",
       "      <td>3.287618</td>\n",
       "      <td>2.900787e-07</td>\n",
       "      <td>80.026017</td>\n",
       "      <td>1</td>\n",
       "      <td>1</td>\n",
       "      <td>0</td>\n",
       "      <td>0</td>\n",
       "      <td>0</td>\n",
       "      <td>0</td>\n",
       "    </tr>\n",
       "    <tr>\n",
       "      <th>266759</th>\n",
       "      <td>0.002560</td>\n",
       "      <td>4.517260</td>\n",
       "      <td>132.104241</td>\n",
       "      <td>1.435747e-13</td>\n",
       "      <td>1.923391</td>\n",
       "      <td>0.010267</td>\n",
       "      <td>1.878288</td>\n",
       "      <td>0.449246</td>\n",
       "      <td>0.938744</td>\n",
       "      <td>146.076443</td>\n",
       "      <td>3.505797</td>\n",
       "      <td>1.632555e-08</td>\n",
       "      <td>67.661410</td>\n",
       "      <td>1</td>\n",
       "      <td>0</td>\n",
       "      <td>0</td>\n",
       "      <td>1</td>\n",
       "      <td>0</td>\n",
       "      <td>0</td>\n",
       "    </tr>\n",
       "  </tbody>\n",
       "</table>\n",
       "</div>"
      ],
      "text/plain": [
       "            Iron    Nitrate    Chloride          Lead      Zinc  Turbidity  \\\n",
       "266755  2.619650   1.389334   84.513108  3.337546e-13  1.978032   0.248652   \n",
       "266756  1.019157   4.908973  190.443656  4.855934e-39  1.128556   0.000030   \n",
       "266757  0.000137  10.552672  211.930128  1.888592e-48  2.848238   0.081378   \n",
       "266758  0.000005   5.703348  225.017979  1.917085e-28  0.400466   0.154662   \n",
       "266759  0.002560   4.517260  132.104241  1.435747e-13  1.923391   0.010267   \n",
       "\n",
       "        Fluoride    Copper      Odor     Sulfate  Chlorine     Manganese  \\\n",
       "266755  1.691318  2.963968  0.772172   83.813450  5.966624  1.152750e-02   \n",
       "266756  0.964431  1.276920  1.160476   84.228139  2.635055  1.672897e-04   \n",
       "266757  1.610560  0.460880  1.278813   89.290890  3.265975  7.472054e-12   \n",
       "266758  0.070338  0.162591  1.038821  247.846145  3.287618  2.900787e-07   \n",
       "266759  1.878288  0.449246  0.938744  146.076443  3.505797  1.632555e-08   \n",
       "\n",
       "        Total Dissolved Solids  Target  Colorless  Faint Yellow  Light Yellow  \\\n",
       "266755               52.369446       1          0             1             0   \n",
       "266756              232.941036       1          0             0             1   \n",
       "266757              330.241630       1          1             0             0   \n",
       "266758               80.026017       1          1             0             0   \n",
       "266759               67.661410       1          0             0             1   \n",
       "\n",
       "        Near Colorless  Yellow  \n",
       "266755               0       0  \n",
       "266756               0       0  \n",
       "266757               0       0  \n",
       "266758               0       0  \n",
       "266759               0       0  "
      ]
     },
     "execution_count": 115,
     "metadata": {},
     "output_type": "execute_result"
    }
   ],
   "source": [
    "df4[df['Target']==1].head(5)"
   ]
  },
  {
   "cell_type": "code",
   "execution_count": 122,
   "id": "1e09616c",
   "metadata": {},
   "outputs": [],
   "source": [
    "df5=df4.drop(['Target'],axis=1)"
   ]
  },
  {
   "cell_type": "code",
   "execution_count": 123,
   "id": "1fad44ef",
   "metadata": {},
   "outputs": [
    {
     "name": "stdout",
     "output_type": "stream",
     "text": [
      "[0]\n",
      "Not Pure\n"
     ]
    },
    {
     "name": "stderr",
     "output_type": "stream",
     "text": [
      "/Users/shivamsourav/opt/anaconda3/lib/python3.9/site-packages/sklearn/base.py:450: UserWarning: X does not have valid feature names, but RandomForestClassifier was fitted with feature names\n",
      "  warnings.warn(\n"
     ]
    }
   ],
   "source": [
    "arr=df5.iloc[190000].values.tolist()\n",
    "y=clf.predict([arr])\n",
    "if y==[1]:\n",
    "    print('Pure Water')\n",
    "else:\n",
    "    print('Not Pure')"
   ]
  },
  {
   "cell_type": "code",
   "execution_count": 119,
   "id": "a4859303",
   "metadata": {},
   "outputs": [
    {
     "name": "stdout",
     "output_type": "stream",
     "text": [
      "Train Score =  100.0\n",
      "Test Score =  82.04569700907108\n",
      "CPU times: user 6min 38s, sys: 2.29 s, total: 6min 40s\n",
      "Wall time: 6min 43s\n"
     ]
    }
   ],
   "source": [
    "%%time\n",
    "from sklearn.tree import DecisionTreeClassifier\n",
    "dtc=DecisionTreeClassifier()\n",
    "dtc.fit(X_train,y_train)\n",
    "print('Train Score = ',dtc.score(X_train,y_train)*100)\n",
    "print('Test Score = ' ,dtc.score(X_test,y_test)*100)"
   ]
  },
  {
   "cell_type": "code",
   "execution_count": 121,
   "id": "090b0007",
   "metadata": {},
   "outputs": [
    {
     "name": "stdout",
     "output_type": "stream",
     "text": [
      "Not Pure\n"
     ]
    },
    {
     "name": "stderr",
     "output_type": "stream",
     "text": [
      "/Users/shivamsourav/opt/anaconda3/lib/python3.9/site-packages/sklearn/base.py:450: UserWarning: X does not have valid feature names, but DecisionTreeClassifier was fitted with feature names\n",
      "  warnings.warn(\n"
     ]
    }
   ],
   "source": [
    "arr=df5.iloc[190000].values.tolist()\n",
    "y=dtc.predict([arr])\n",
    "if y==[1]:\n",
    "    print('Pure Water')\n",
    "else:\n",
    "    print('Not Pure')"
   ]
  }
 ],
 "metadata": {
  "kernelspec": {
   "display_name": "Python 3 (ipykernel)",
   "language": "python",
   "name": "python3"
  },
  "language_info": {
   "codemirror_mode": {
    "name": "ipython",
    "version": 3
   },
   "file_extension": ".py",
   "mimetype": "text/x-python",
   "name": "python",
   "nbconvert_exporter": "python",
   "pygments_lexer": "ipython3",
   "version": "3.9.12"
  }
 },
 "nbformat": 4,
 "nbformat_minor": 5
}
